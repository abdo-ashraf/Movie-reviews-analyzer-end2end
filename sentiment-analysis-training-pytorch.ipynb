{
 "cells": [
  {
   "cell_type": "markdown",
   "id": "2ca8dc19",
   "metadata": {
    "id": "q2h6hss15F4x",
    "papermill": {
     "duration": 0.012751,
     "end_time": "2024-11-04T20:20:15.074331",
     "exception": false,
     "start_time": "2024-11-04T20:20:15.061580",
     "status": "completed"
    },
    "tags": []
   },
   "source": [
    "## `Problem Statement`\n",
    "\n",
    "*   IMDb Movie Reviews is many to one problem.\n",
    "*   Text Sentiment Analysis with RNN.\n",
    "*   pre-trained Glove Embeddings.\n",
    "\n",
    "\n"
   ]
  },
  {
   "cell_type": "markdown",
   "id": "7fee7b61",
   "metadata": {
    "id": "Gco9PHvP6Gcf",
    "papermill": {
     "duration": 0.011599,
     "end_time": "2024-11-04T20:20:15.098963",
     "exception": false,
     "start_time": "2024-11-04T20:20:15.087364",
     "status": "completed"
    },
    "tags": []
   },
   "source": [
    "## `IMPORTS`"
   ]
  },
  {
   "cell_type": "code",
   "execution_count": 1,
   "id": "1d61f106",
   "metadata": {
    "execution": {
     "iopub.execute_input": "2024-11-04T20:20:15.123836Z",
     "iopub.status.busy": "2024-11-04T20:20:15.123477Z",
     "iopub.status.idle": "2024-11-04T20:20:41.057737Z",
     "shell.execute_reply": "2024-11-04T20:20:41.056635Z"
    },
    "papermill": {
     "duration": 25.94949,
     "end_time": "2024-11-04T20:20:41.060130",
     "exception": false,
     "start_time": "2024-11-04T20:20:15.110640",
     "status": "completed"
    },
    "tags": []
   },
   "outputs": [
    {
     "name": "stdout",
     "output_type": "stream",
     "text": [
      "Collecting en-core-web-sm==3.7.1\r\n",
      "  Downloading https://github.com/explosion/spacy-models/releases/download/en_core_web_sm-3.7.1/en_core_web_sm-3.7.1-py3-none-any.whl (12.8 MB)\r\n",
      "\u001b[2K     \u001b[90m━━━━━━━━━━━━━━━━━━━━━━━━━━━━━━━━━━━━━━━━\u001b[0m \u001b[32m12.8/12.8 MB\u001b[0m \u001b[31m82.3 MB/s\u001b[0m eta \u001b[36m0:00:00\u001b[0m\r\n",
      "\u001b[?25hRequirement already satisfied: spacy<3.8.0,>=3.7.2 in /opt/conda/lib/python3.10/site-packages (from en-core-web-sm==3.7.1) (3.7.6)\r\n",
      "Requirement already satisfied: spacy-legacy<3.1.0,>=3.0.11 in /opt/conda/lib/python3.10/site-packages (from spacy<3.8.0,>=3.7.2->en-core-web-sm==3.7.1) (3.0.12)\r\n",
      "Requirement already satisfied: spacy-loggers<2.0.0,>=1.0.0 in /opt/conda/lib/python3.10/site-packages (from spacy<3.8.0,>=3.7.2->en-core-web-sm==3.7.1) (1.0.5)\r\n",
      "Requirement already satisfied: murmurhash<1.1.0,>=0.28.0 in /opt/conda/lib/python3.10/site-packages (from spacy<3.8.0,>=3.7.2->en-core-web-sm==3.7.1) (1.0.10)\r\n",
      "Requirement already satisfied: cymem<2.1.0,>=2.0.2 in /opt/conda/lib/python3.10/site-packages (from spacy<3.8.0,>=3.7.2->en-core-web-sm==3.7.1) (2.0.8)\r\n",
      "Requirement already satisfied: preshed<3.1.0,>=3.0.2 in /opt/conda/lib/python3.10/site-packages (from spacy<3.8.0,>=3.7.2->en-core-web-sm==3.7.1) (3.0.9)\r\n",
      "Requirement already satisfied: thinc<8.3.0,>=8.2.2 in /opt/conda/lib/python3.10/site-packages (from spacy<3.8.0,>=3.7.2->en-core-web-sm==3.7.1) (8.2.5)\r\n",
      "Requirement already satisfied: wasabi<1.2.0,>=0.9.1 in /opt/conda/lib/python3.10/site-packages (from spacy<3.8.0,>=3.7.2->en-core-web-sm==3.7.1) (1.1.2)\r\n",
      "Requirement already satisfied: srsly<3.0.0,>=2.4.3 in /opt/conda/lib/python3.10/site-packages (from spacy<3.8.0,>=3.7.2->en-core-web-sm==3.7.1) (2.4.8)\r\n",
      "Requirement already satisfied: catalogue<2.1.0,>=2.0.6 in /opt/conda/lib/python3.10/site-packages (from spacy<3.8.0,>=3.7.2->en-core-web-sm==3.7.1) (2.0.10)\r\n",
      "Requirement already satisfied: weasel<0.5.0,>=0.1.0 in /opt/conda/lib/python3.10/site-packages (from spacy<3.8.0,>=3.7.2->en-core-web-sm==3.7.1) (0.4.1)\r\n",
      "Requirement already satisfied: typer<1.0.0,>=0.3.0 in /opt/conda/lib/python3.10/site-packages (from spacy<3.8.0,>=3.7.2->en-core-web-sm==3.7.1) (0.12.3)\r\n",
      "Requirement already satisfied: tqdm<5.0.0,>=4.38.0 in /opt/conda/lib/python3.10/site-packages (from spacy<3.8.0,>=3.7.2->en-core-web-sm==3.7.1) (4.66.4)\r\n",
      "Requirement already satisfied: requests<3.0.0,>=2.13.0 in /opt/conda/lib/python3.10/site-packages (from spacy<3.8.0,>=3.7.2->en-core-web-sm==3.7.1) (2.32.3)\r\n",
      "Requirement already satisfied: pydantic!=1.8,!=1.8.1,<3.0.0,>=1.7.4 in /opt/conda/lib/python3.10/site-packages (from spacy<3.8.0,>=3.7.2->en-core-web-sm==3.7.1) (2.9.2)\r\n",
      "Requirement already satisfied: jinja2 in /opt/conda/lib/python3.10/site-packages (from spacy<3.8.0,>=3.7.2->en-core-web-sm==3.7.1) (3.1.4)\r\n",
      "Requirement already satisfied: setuptools in /opt/conda/lib/python3.10/site-packages (from spacy<3.8.0,>=3.7.2->en-core-web-sm==3.7.1) (70.0.0)\r\n",
      "Requirement already satisfied: packaging>=20.0 in /opt/conda/lib/python3.10/site-packages (from spacy<3.8.0,>=3.7.2->en-core-web-sm==3.7.1) (21.3)\r\n",
      "Requirement already satisfied: langcodes<4.0.0,>=3.2.0 in /opt/conda/lib/python3.10/site-packages (from spacy<3.8.0,>=3.7.2->en-core-web-sm==3.7.1) (3.4.1)\r\n",
      "Requirement already satisfied: numpy>=1.19.0 in /opt/conda/lib/python3.10/site-packages (from spacy<3.8.0,>=3.7.2->en-core-web-sm==3.7.1) (1.26.4)\r\n",
      "Requirement already satisfied: language-data>=1.2 in /opt/conda/lib/python3.10/site-packages (from langcodes<4.0.0,>=3.2.0->spacy<3.8.0,>=3.7.2->en-core-web-sm==3.7.1) (1.2.0)\r\n",
      "Requirement already satisfied: pyparsing!=3.0.5,>=2.0.2 in /opt/conda/lib/python3.10/site-packages (from packaging>=20.0->spacy<3.8.0,>=3.7.2->en-core-web-sm==3.7.1) (3.1.2)\r\n",
      "Requirement already satisfied: annotated-types>=0.6.0 in /opt/conda/lib/python3.10/site-packages (from pydantic!=1.8,!=1.8.1,<3.0.0,>=1.7.4->spacy<3.8.0,>=3.7.2->en-core-web-sm==3.7.1) (0.7.0)\r\n",
      "Requirement already satisfied: pydantic-core==2.23.4 in /opt/conda/lib/python3.10/site-packages (from pydantic!=1.8,!=1.8.1,<3.0.0,>=1.7.4->spacy<3.8.0,>=3.7.2->en-core-web-sm==3.7.1) (2.23.4)\r\n",
      "Requirement already satisfied: typing-extensions>=4.6.1 in /opt/conda/lib/python3.10/site-packages (from pydantic!=1.8,!=1.8.1,<3.0.0,>=1.7.4->spacy<3.8.0,>=3.7.2->en-core-web-sm==3.7.1) (4.12.2)\r\n",
      "Requirement already satisfied: charset-normalizer<4,>=2 in /opt/conda/lib/python3.10/site-packages (from requests<3.0.0,>=2.13.0->spacy<3.8.0,>=3.7.2->en-core-web-sm==3.7.1) (3.3.2)\r\n",
      "Requirement already satisfied: idna<4,>=2.5 in /opt/conda/lib/python3.10/site-packages (from requests<3.0.0,>=2.13.0->spacy<3.8.0,>=3.7.2->en-core-web-sm==3.7.1) (3.7)\r\n",
      "Requirement already satisfied: urllib3<3,>=1.21.1 in /opt/conda/lib/python3.10/site-packages (from requests<3.0.0,>=2.13.0->spacy<3.8.0,>=3.7.2->en-core-web-sm==3.7.1) (1.26.18)\r\n",
      "Requirement already satisfied: certifi>=2017.4.17 in /opt/conda/lib/python3.10/site-packages (from requests<3.0.0,>=2.13.0->spacy<3.8.0,>=3.7.2->en-core-web-sm==3.7.1) (2024.8.30)\r\n",
      "Requirement already satisfied: blis<0.8.0,>=0.7.8 in /opt/conda/lib/python3.10/site-packages (from thinc<8.3.0,>=8.2.2->spacy<3.8.0,>=3.7.2->en-core-web-sm==3.7.1) (0.7.10)\r\n",
      "Requirement already satisfied: confection<1.0.0,>=0.0.1 in /opt/conda/lib/python3.10/site-packages (from thinc<8.3.0,>=8.2.2->spacy<3.8.0,>=3.7.2->en-core-web-sm==3.7.1) (0.1.4)\r\n",
      "Requirement already satisfied: click>=8.0.0 in /opt/conda/lib/python3.10/site-packages (from typer<1.0.0,>=0.3.0->spacy<3.8.0,>=3.7.2->en-core-web-sm==3.7.1) (8.1.7)\r\n",
      "Requirement already satisfied: shellingham>=1.3.0 in /opt/conda/lib/python3.10/site-packages (from typer<1.0.0,>=0.3.0->spacy<3.8.0,>=3.7.2->en-core-web-sm==3.7.1) (1.5.4)\r\n",
      "Requirement already satisfied: rich>=10.11.0 in /opt/conda/lib/python3.10/site-packages (from typer<1.0.0,>=0.3.0->spacy<3.8.0,>=3.7.2->en-core-web-sm==3.7.1) (13.7.1)\r\n",
      "Requirement already satisfied: cloudpathlib<1.0.0,>=0.7.0 in /opt/conda/lib/python3.10/site-packages (from weasel<0.5.0,>=0.1.0->spacy<3.8.0,>=3.7.2->en-core-web-sm==3.7.1) (0.19.0)\r\n",
      "Requirement already satisfied: smart-open<8.0.0,>=5.2.1 in /opt/conda/lib/python3.10/site-packages (from weasel<0.5.0,>=0.1.0->spacy<3.8.0,>=3.7.2->en-core-web-sm==3.7.1) (7.0.4)\r\n",
      "Requirement already satisfied: MarkupSafe>=2.0 in /opt/conda/lib/python3.10/site-packages (from jinja2->spacy<3.8.0,>=3.7.2->en-core-web-sm==3.7.1) (2.1.5)\r\n",
      "Requirement already satisfied: marisa-trie>=0.7.7 in /opt/conda/lib/python3.10/site-packages (from language-data>=1.2->langcodes<4.0.0,>=3.2.0->spacy<3.8.0,>=3.7.2->en-core-web-sm==3.7.1) (1.1.0)\r\n",
      "Requirement already satisfied: markdown-it-py>=2.2.0 in /opt/conda/lib/python3.10/site-packages (from rich>=10.11.0->typer<1.0.0,>=0.3.0->spacy<3.8.0,>=3.7.2->en-core-web-sm==3.7.1) (3.0.0)\r\n",
      "Requirement already satisfied: pygments<3.0.0,>=2.13.0 in /opt/conda/lib/python3.10/site-packages (from rich>=10.11.0->typer<1.0.0,>=0.3.0->spacy<3.8.0,>=3.7.2->en-core-web-sm==3.7.1) (2.18.0)\r\n",
      "Requirement already satisfied: wrapt in /opt/conda/lib/python3.10/site-packages (from smart-open<8.0.0,>=5.2.1->weasel<0.5.0,>=0.1.0->spacy<3.8.0,>=3.7.2->en-core-web-sm==3.7.1) (1.16.0)\r\n",
      "Requirement already satisfied: mdurl~=0.1 in /opt/conda/lib/python3.10/site-packages (from markdown-it-py>=2.2.0->rich>=10.11.0->typer<1.0.0,>=0.3.0->spacy<3.8.0,>=3.7.2->en-core-web-sm==3.7.1) (0.1.2)\r\n",
      "\u001b[38;5;2m✔ Download and installation successful\u001b[0m\r\n",
      "You can now load the package via spacy.load('en_core_web_sm')\r\n"
     ]
    }
   ],
   "source": [
    "!python -m spacy download en_core_web_sm"
   ]
  },
  {
   "cell_type": "code",
   "execution_count": 2,
   "id": "05510424",
   "metadata": {
    "execution": {
     "iopub.execute_input": "2024-11-04T20:20:41.088262Z",
     "iopub.status.busy": "2024-11-04T20:20:41.087705Z",
     "iopub.status.idle": "2024-11-04T20:20:48.741961Z",
     "shell.execute_reply": "2024-11-04T20:20:48.741198Z"
    },
    "id": "pldHkOQC5FGl",
    "papermill": {
     "duration": 7.670597,
     "end_time": "2024-11-04T20:20:48.744204",
     "exception": false,
     "start_time": "2024-11-04T20:20:41.073607",
     "status": "completed"
    },
    "tags": []
   },
   "outputs": [],
   "source": [
    "import numpy as np\n",
    "import pandas as pd\n",
    "import seaborn as sns\n",
    "import matplotlib.pyplot as plt\n",
    "import re\n",
    "import nltk\n",
    "from nltk.corpus import  stopwords\n",
    "from nltk.stem.porter import PorterStemmer\n",
    "from sklearn.model_selection import train_test_split\n",
    "from zipfile import ZipFile\n",
    "import torch\n",
    "from torch import nn\n",
    "from torch.nn import functional as F\n",
    "from torch.utils.data import DataLoader, Dataset\n",
    "import spacy\n",
    "nltk.download('stopwords', quiet=True)\n",
    "from typing import List, Union\n",
    "from collections import Counter"
   ]
  },
  {
   "cell_type": "code",
   "execution_count": 3,
   "id": "ed7b8125",
   "metadata": {
    "execution": {
     "iopub.execute_input": "2024-11-04T20:20:48.772190Z",
     "iopub.status.busy": "2024-11-04T20:20:48.771679Z",
     "iopub.status.idle": "2024-11-04T20:20:48.775889Z",
     "shell.execute_reply": "2024-11-04T20:20:48.775022Z"
    },
    "id": "uQ7-wqG-Y942",
    "papermill": {
     "duration": 0.020154,
     "end_time": "2024-11-04T20:20:48.777794",
     "exception": false,
     "start_time": "2024-11-04T20:20:48.757640",
     "status": "completed"
    },
    "tags": []
   },
   "outputs": [],
   "source": [
    "isKaggle = True\n",
    "base_dir = '/kaggle/working' if isKaggle else '/content'"
   ]
  },
  {
   "cell_type": "code",
   "execution_count": 4,
   "id": "3cf44d10",
   "metadata": {
    "execution": {
     "iopub.execute_input": "2024-11-04T20:20:48.804854Z",
     "iopub.status.busy": "2024-11-04T20:20:48.804561Z",
     "iopub.status.idle": "2024-11-04T20:20:48.809199Z",
     "shell.execute_reply": "2024-11-04T20:20:48.808366Z"
    },
    "id": "_-hQUmnWJhM2",
    "papermill": {
     "duration": 0.020315,
     "end_time": "2024-11-04T20:20:48.811042",
     "exception": false,
     "start_time": "2024-11-04T20:20:48.790727",
     "status": "completed"
    },
    "tags": []
   },
   "outputs": [],
   "source": [
    "lr = 1e-4\n",
    "epochs = 30\n",
    "valid_test_size = 0.2\n",
    "maxlen = 100 # maximum sequence length\n",
    "embd_features = 100 # length of embedding vectors for each word (input_size)\n",
    "batch_size = 64\n",
    "max_freq = 5\n",
    "lstm_hidden_size = 128 # The number of features in the hidden state\n",
    "lstm_layers = 3 # Number of stacked recurrent layers\n",
    "linear_hidden_size = 128 # Number of units for linear layer"
   ]
  },
  {
   "cell_type": "code",
   "execution_count": 5,
   "id": "d0ea2ff7",
   "metadata": {
    "execution": {
     "iopub.execute_input": "2024-11-04T20:20:48.838225Z",
     "iopub.status.busy": "2024-11-04T20:20:48.837969Z",
     "iopub.status.idle": "2024-11-04T20:20:48.842214Z",
     "shell.execute_reply": "2024-11-04T20:20:48.841389Z"
    },
    "id": "-ATol0VX1kMY",
    "papermill": {
     "duration": 0.020054,
     "end_time": "2024-11-04T20:20:48.844169",
     "exception": false,
     "start_time": "2024-11-04T20:20:48.824115",
     "status": "completed"
    },
    "tags": []
   },
   "outputs": [],
   "source": [
    "seed = 42\n",
    "g = torch.Generator().manual_seed(seed)\n",
    "device = 'cuda' if torch.cuda.is_available() else 'cpu'"
   ]
  },
  {
   "cell_type": "markdown",
   "id": "d5de49ab",
   "metadata": {
    "id": "TNCEA6TN6-9_",
    "papermill": {
     "duration": 0.012705,
     "end_time": "2024-11-04T20:20:48.869996",
     "exception": false,
     "start_time": "2024-11-04T20:20:48.857291",
     "status": "completed"
    },
    "tags": []
   },
   "source": [
    "## `Get and visualize the Dataset`"
   ]
  },
  {
   "cell_type": "code",
   "execution_count": 6,
   "id": "7852e1a7",
   "metadata": {
    "execution": {
     "iopub.execute_input": "2024-11-04T20:20:48.897299Z",
     "iopub.status.busy": "2024-11-04T20:20:48.896991Z",
     "iopub.status.idle": "2024-11-04T20:21:04.197572Z",
     "shell.execute_reply": "2024-11-04T20:21:04.196466Z"
    },
    "id": "UGqk5myf7DI3",
    "outputId": "9d7b599b-298d-4010-905f-127b1f26e66a",
    "papermill": {
     "duration": 15.316678,
     "end_time": "2024-11-04T20:21:04.199800",
     "exception": false,
     "start_time": "2024-11-04T20:20:48.883122",
     "status": "completed"
    },
    "tags": []
   },
   "outputs": [
    {
     "name": "stdout",
     "output_type": "stream",
     "text": [
      "--2024-11-04 20:20:49--  https://drive.google.com/uc?id=1He6pot7hsWfSURS0Kh-MlmDyQqfRUUdd\r\n",
      "Resolving drive.google.com (drive.google.com)... 172.217.24.46, 2404:6800:4006:804::200e\r\n",
      "Connecting to drive.google.com (drive.google.com)|172.217.24.46|:443... connected.\r\n",
      "HTTP request sent, awaiting response... 303 See Other\r\n",
      "Location: https://drive.usercontent.google.com/download?id=1He6pot7hsWfSURS0Kh-MlmDyQqfRUUdd [following]\r\n",
      "--2024-11-04 20:20:50--  https://drive.usercontent.google.com/download?id=1He6pot7hsWfSURS0Kh-MlmDyQqfRUUdd\r\n",
      "Resolving drive.usercontent.google.com (drive.usercontent.google.com)... 172.217.24.33, 2404:6800:4006:804::2001\r\n",
      "Connecting to drive.usercontent.google.com (drive.usercontent.google.com)|172.217.24.33|:443... connected.\r\n",
      "HTTP request sent, awaiting response... 200 OK\r\n",
      "Length: 66212309 (63M) [application/octet-stream]\r\n",
      "Saving to: './a1_IMDB_Dataset.csv'\r\n",
      "\r\n",
      "./a1_IMDB_Dataset.c 100%[===================>]  63.14M  12.3MB/s    in 5.1s    \r\n",
      "\r\n",
      "2024-11-04 20:21:04 (12.3 MB/s) - './a1_IMDB_Dataset.csv' saved [66212309/66212309]\r\n",
      "\r\n"
     ]
    }
   ],
   "source": [
    "!wget -O ./a1_IMDB_Dataset.csv https://drive.google.com/uc?id=1He6pot7hsWfSURS0Kh-MlmDyQqfRUUdd"
   ]
  },
  {
   "cell_type": "code",
   "execution_count": 7,
   "id": "7b093355",
   "metadata": {
    "execution": {
     "iopub.execute_input": "2024-11-04T20:21:04.231617Z",
     "iopub.status.busy": "2024-11-04T20:21:04.231247Z",
     "iopub.status.idle": "2024-11-04T20:21:04.900350Z",
     "shell.execute_reply": "2024-11-04T20:21:04.899098Z"
    },
    "id": "pe2suxl57N6V",
    "outputId": "cf91828b-9a04-4ba0-b2f2-50ca7365d65d",
    "papermill": {
     "duration": 0.687207,
     "end_time": "2024-11-04T20:21:04.902491",
     "exception": false,
     "start_time": "2024-11-04T20:21:04.215284",
     "status": "completed"
    },
    "tags": []
   },
   "outputs": [
    {
     "name": "stdout",
     "output_type": "stream",
     "text": [
      "<class 'pandas.core.frame.DataFrame'>\n",
      "RangeIndex: 50000 entries, 0 to 49999\n",
      "Data columns (total 2 columns):\n",
      " #   Column     Non-Null Count  Dtype \n",
      "---  ------     --------------  ----- \n",
      " 0   review     50000 non-null  object\n",
      " 1   sentiment  50000 non-null  object\n",
      "dtypes: object(2)\n",
      "memory usage: 781.4+ KB\n",
      "None\n"
     ]
    }
   ],
   "source": [
    "# Little bit statistics\n",
    "df_reviews = pd.read_csv(f'{base_dir}/a1_IMDB_Dataset.csv')\n",
    "print(df_reviews.info())"
   ]
  },
  {
   "cell_type": "markdown",
   "id": "ffb8422b",
   "metadata": {
    "id": "s-Q2PB0m8FOD",
    "papermill": {
     "duration": 0.014565,
     "end_time": "2024-11-04T20:21:04.932408",
     "exception": false,
     "start_time": "2024-11-04T20:21:04.917843",
     "status": "completed"
    },
    "tags": []
   },
   "source": [
    "- Dataset does not have missing values, so no need for Data cleaning step"
   ]
  },
  {
   "cell_type": "code",
   "execution_count": 8,
   "id": "9cdbade6",
   "metadata": {
    "execution": {
     "iopub.execute_input": "2024-11-04T20:21:04.963271Z",
     "iopub.status.busy": "2024-11-04T20:21:04.962921Z",
     "iopub.status.idle": "2024-11-04T20:21:04.971849Z",
     "shell.execute_reply": "2024-11-04T20:21:04.970956Z"
    },
    "id": "zIJ_RiDu7_lr",
    "outputId": "24fde792-d20a-43ba-fbda-ec153c7b987e",
    "papermill": {
     "duration": 0.026569,
     "end_time": "2024-11-04T20:21:04.973855",
     "exception": false,
     "start_time": "2024-11-04T20:21:04.947286",
     "status": "completed"
    },
    "tags": []
   },
   "outputs": [
    {
     "name": "stdout",
     "output_type": "stream",
     "text": [
      "                                              review sentiment\n",
      "0  One of the other reviewers has mentioned that ...  positive\n",
      "1  A wonderful little production. <br /><br />The...  positive\n",
      "2  I thought this was a wonderful way to spend ti...  positive\n",
      "3  Basically there's a family where a little boy ...  negative\n",
      "4  Petter Mattei's \"Love in the Time of Money\" is...  positive\n"
     ]
    }
   ],
   "source": [
    "# Print first 5 rows\n",
    "print(df_reviews.head(5))"
   ]
  },
  {
   "cell_type": "code",
   "execution_count": 9,
   "id": "3104a5fe",
   "metadata": {
    "execution": {
     "iopub.execute_input": "2024-11-04T20:21:05.005153Z",
     "iopub.status.busy": "2024-11-04T20:21:05.004883Z",
     "iopub.status.idle": "2024-11-04T20:21:05.408365Z",
     "shell.execute_reply": "2024-11-04T20:21:05.407463Z"
    },
    "id": "fIyerlo9876-",
    "outputId": "fbfd091f-4b58-4ac3-87d9-1c8c74fd12f3",
    "papermill": {
     "duration": 0.421804,
     "end_time": "2024-11-04T20:21:05.410932",
     "exception": false,
     "start_time": "2024-11-04T20:21:04.989128",
     "status": "completed"
    },
    "tags": []
   },
   "outputs": [
    {
     "data": {
      "image/png": "[encoded data removed]",
      "text/plain": [
       "<Figure size 400x300 with 1 Axes>"
      ]
     },
     "metadata": {},
     "output_type": "display_data"
    }
   ],
   "source": [
    "# Visualizing of positive/negative sentiments in dataset\n",
    "plt.figure(figsize=(4,3))\n",
    "sns.countplot(x='sentiment', data=df_reviews, hue='sentiment');"
   ]
  },
  {
   "cell_type": "code",
   "execution_count": 10,
   "id": "38d096bd",
   "metadata": {
    "execution": {
     "iopub.execute_input": "2024-11-04T20:21:05.443363Z",
     "iopub.status.busy": "2024-11-04T20:21:05.443023Z",
     "iopub.status.idle": "2024-11-04T20:21:05.449153Z",
     "shell.execute_reply": "2024-11-04T20:21:05.448245Z"
    },
    "id": "YvqmdAPEFFlo",
    "outputId": "f8ebcd8c-1f5b-4c43-cac8-ac5389f49663",
    "papermill": {
     "duration": 0.024237,
     "end_time": "2024-11-04T20:21:05.451097",
     "exception": false,
     "start_time": "2024-11-04T20:21:05.426860",
     "status": "completed"
    },
    "tags": []
   },
   "outputs": [
    {
     "data": {
      "text/plain": [
       "\"One of the other reviewers has mentioned that after watching just 1 Oz episode you'll be hooked. They are right, as this is exactly what happened with me.<br /><br />The first thing that struck me about Oz was its brutality and unflinching scenes of violence, which set in right from the word GO. Trust me, this is not a show for the faint hearted or timid. This show pulls no punches with regards to drugs, sex or violence. Its is hardcore, in the classic use of the word.<br /><br />It is called OZ as that is the nickname given to the Oswald Maximum Security State Penitentary. It focuses mainly on Emerald City, an experimental section of the prison where all the cells have glass fronts and face inwards, so privacy is not high on the agenda. Em City is home to many..Aryans, Muslims, gangstas, Latinos, Christians, Italians, Irish and more....so scuffles, death stares, dodgy dealings and shady agreements are never far away.<br /><br />I would say the main appeal of the show is due to the fact that it goes where other shows wouldn't dare. Forget pretty pictures painted for mainstream audiences, forget charm, forget romance...OZ doesn't mess around. The first episode I ever saw struck me as so nasty it was surreal, I couldn't say I was ready for it, but as I watched more, I developed a taste for Oz, and got accustomed to the high levels of graphic violence. Not just violence, but injustice (crooked guards who'll be sold out for a nickel, inmates who'll kill on order and get away with it, well mannered, middle class inmates being turned into prison bitches due to their lack of street skills or prison experience) Watching Oz, you may become comfortable with what is uncomfortable viewing....thats if you can get in touch with your darker side.\""
      ]
     },
     "execution_count": 10,
     "metadata": {},
     "output_type": "execute_result"
    }
   ],
   "source": [
    "df_reviews['review'].iloc[0]"
   ]
  },
  {
   "cell_type": "markdown",
   "id": "156a6a2e",
   "metadata": {
    "id": "FvsvAVPYzmc0",
    "papermill": {
     "duration": 0.014997,
     "end_time": "2024-11-04T20:21:05.481392",
     "exception": false,
     "start_time": "2024-11-04T20:21:05.466395",
     "status": "completed"
    },
    "tags": []
   },
   "source": [
    "- We will need to deals with **punctuations**, brackets, HTML tags and numbers"
   ]
  },
  {
   "cell_type": "markdown",
   "id": "adccc14c",
   "metadata": {
    "id": "bnba3eqCIwM5",
    "papermill": {
     "duration": 0.01496,
     "end_time": "2024-11-04T20:21:05.511608",
     "exception": false,
     "start_time": "2024-11-04T20:21:05.496648",
     "status": "completed"
    },
    "tags": []
   },
   "source": [
    "## `STEP: DATA SPLIT`"
   ]
  },
  {
   "cell_type": "code",
   "execution_count": 11,
   "id": "a9b56094",
   "metadata": {
    "execution": {
     "iopub.execute_input": "2024-11-04T20:21:05.543530Z",
     "iopub.status.busy": "2024-11-04T20:21:05.543212Z",
     "iopub.status.idle": "2024-11-04T20:21:05.561615Z",
     "shell.execute_reply": "2024-11-04T20:21:05.560585Z"
    },
    "id": "kGTrPHuFIsol",
    "outputId": "7218d6b0-0d49-4c2c-93b4-a08dcf6ceb43",
    "papermill": {
     "duration": 0.036579,
     "end_time": "2024-11-04T20:21:05.563382",
     "exception": false,
     "start_time": "2024-11-04T20:21:05.526803",
     "status": "completed"
    },
    "tags": []
   },
   "outputs": [
    {
     "name": "stdout",
     "output_type": "stream",
     "text": [
      "(40000, 2), (5000, 2), (5000, 2)\n"
     ]
    }
   ],
   "source": [
    "df_reviews_train, df_reviews_test = train_test_split(df_reviews, test_size=valid_test_size, random_state=seed)\n",
    "df_reviews_valid, df_reviews_test = train_test_split(df_reviews_test, test_size=0.5, random_state=seed)\n",
    "\n",
    "print(df_reviews_train.shape, df_reviews_test.shape, df_reviews_valid.shape, sep=', ')"
   ]
  },
  {
   "cell_type": "markdown",
   "id": "e424a84a",
   "metadata": {
    "id": "eQHX_bvqAeH3",
    "papermill": {
     "duration": 0.016322,
     "end_time": "2024-11-04T20:21:05.595188",
     "exception": false,
     "start_time": "2024-11-04T20:21:05.578866",
     "status": "completed"
    },
    "tags": []
   },
   "source": [
    "## `STEP: DATA LOADING AND PRE-PROCESSING`"
   ]
  },
  {
   "cell_type": "code",
   "execution_count": 12,
   "id": "67f85471",
   "metadata": {
    "execution": {
     "iopub.execute_input": "2024-11-04T20:21:05.627330Z",
     "iopub.status.busy": "2024-11-04T20:21:05.627036Z",
     "iopub.status.idle": "2024-11-04T20:21:05.630709Z",
     "shell.execute_reply": "2024-11-04T20:21:05.629840Z"
    },
    "id": "nFA_omi226wW",
    "papermill": {
     "duration": 0.021967,
     "end_time": "2024-11-04T20:21:05.632642",
     "exception": false,
     "start_time": "2024-11-04T20:21:05.610675",
     "status": "completed"
    },
    "tags": []
   },
   "outputs": [],
   "source": [
    "## raw_text ->     Tokenizer     ->       Vocabulary     ->   CustomDataset\n",
    "##              (string_tokens)       (numerical_tokens)     (Ready_for_model)"
   ]
  },
  {
   "cell_type": "code",
   "execution_count": 13,
   "id": "5d0aaa78",
   "metadata": {
    "execution": {
     "iopub.execute_input": "2024-11-04T20:21:05.664401Z",
     "iopub.status.busy": "2024-11-04T20:21:05.664134Z",
     "iopub.status.idle": "2024-11-04T20:21:05.671766Z",
     "shell.execute_reply": "2024-11-04T20:21:05.670944Z"
    },
    "id": "RAcq36YQCweB",
    "jupyter": {
     "source_hidden": true
    },
    "papermill": {
     "duration": 0.025888,
     "end_time": "2024-11-04T20:21:05.673796",
     "exception": false,
     "start_time": "2024-11-04T20:21:05.647908",
     "status": "completed"
    },
    "tags": []
   },
   "outputs": [],
   "source": [
    "p='''\n",
    "## OR you can use spacy tonkenizer or whatever you want.\n",
    "class Tokenizer:\n",
    "    def __init__(self, stemmer=True, html_tags_regex=True, punctuations_regex=True, words_contains_numbers_regex=True,\n",
    "                 urls_regex=True, multi_space_regex=True, stopwords_regex=True):\n",
    "\n",
    "        # for stemming step\n",
    "        self.stemmer = PorterStemmer() if stemmer else None\n",
    "        # for html tags\n",
    "        self.html_tags_regex = re.compile(r'<[^>]+>') if html_tags_regex else None\n",
    "        # for punctuations\n",
    "        self.punctuations_regex = re.compile(r'[^a-z0-9\\s]+') if punctuations_regex else None\n",
    "        # for words that contains numbers like f4g\n",
    "        self.words_contains_numbers_regex = re.compile(r'\\w*\\d+\\w*') if words_contains_numbers_regex else None\n",
    "        # for urls and links\n",
    "        self.urls_regex = re.compile(r'https?://(?:www\\.)?\\S+|www\\.\\S+') if urls_regex else None\n",
    "        # for multiple spaces and newlines\n",
    "        self.multi_space_regex = re.compile(r'\\n+|\\s+') if multi_space_regex else None\n",
    "        # for stopwords\n",
    "        if stopwords_regex:\n",
    "            # Define a list of negative verbs to remove\n",
    "            negative_verbs = {'don', \"don't\", 'aren', \"aren't\", 'couldn', \"couldn't\", 'didn', \"didn't\", 'doesn', \"doesn't\", 'hadn', \"hadn't\", 'hasn',\n",
    "                              \"hasn't\", 'haven', \"haven't\", 'isn', \"isn't\", 'mightn', \"mightn't\", 'not', \"n't\", 'mustn', \"mustn't\", 'needn', \"needn't\",\n",
    "                              'shan', \"shan't\", 'shouldn', \"shouldn't\", 'wasn', \"wasn't\", 'weren', \"weren't\", 'won', \"won't\", 'wouldn', \"wouldn't\"}\n",
    "            # Remove negative verbs\n",
    "            self.filtered_stop_words = [word for word in stopwords.words('english') if word not in negative_verbs]\n",
    "            # self.stopwords_regex = re.compile(r'\\b(' + r'|'.join(filtered_stop_words) + r')\\b\\s*')\n",
    "        # else: self.stopwords_regex = None\n",
    "        else: self.filtered_stop_words = []\n",
    "\n",
    "    def sentence_tokenizing(self, input_text:str):\n",
    "\n",
    "        text = input_text.lower()\n",
    "\n",
    "        if self.html_tags_regex:\n",
    "            text = self.html_tags_regex.sub(' ', text)\n",
    "\n",
    "        if self.urls_regex:\n",
    "            text = self.urls_regex.sub(' ', text)\n",
    "\n",
    "        if self.punctuations_regex:\n",
    "            text = self.punctuations_regex.sub('', text)\n",
    "\n",
    "        if self.words_contains_numbers_regex:\n",
    "            text = self.words_contains_numbers_regex.sub(' ', text)\n",
    "\n",
    "        if self.multi_space_regex:\n",
    "            text = self.multi_space_regex.sub(' ', text)\n",
    "\n",
    "        text_tokens = text.split()\n",
    "\n",
    "        text_tokens = [self.stemmer.stem(word) for word in text_tokens] if self.stemmer else text_tokens\n",
    "\n",
    "        text_tokens = [token for token in text_tokens if token not in self.filtered_stop_words] if self.filtered_stop_words else text_tokens\n",
    "\n",
    "        return text_tokens\n",
    "\n",
    "\n",
    "    def __call__(self, input_text:str):\n",
    "        return self.sentence_tokenizing(input_text)\n",
    "\n",
    "\n",
    "    def word_tokenizing(self, input_word:str, stemming=True):\n",
    "\n",
    "        word = input_word.lower().replace(' ', '')\n",
    "\n",
    "        if self.html_tags_regex:\n",
    "            if self.html_tags_regex.search(word):\n",
    "                return ''\n",
    "\n",
    "        if self.urls_regex:\n",
    "            if self.urls_regex.search(word):\n",
    "                return ''\n",
    "\n",
    "        if self.punctuations_regex:\n",
    "            if self.punctuations_regex.search(word):\n",
    "                return ''\n",
    "\n",
    "        if self.punctuations_regex:\n",
    "            word = self.punctuations_regex.sub('', word)\n",
    "\n",
    "        if self.words_contains_numbers_regex:\n",
    "            if self.words_contains_numbers_regex.search(word):\n",
    "                return ''\n",
    "\n",
    "        if stemming:\n",
    "            if self.stemmer:\n",
    "                word = self.stemmer.stem(word)\n",
    "\n",
    "        if self.filtered_stop_words:\n",
    "            if word in self.filtered_stop_words:\n",
    "                return ''\n",
    "\n",
    "        return word\n",
    "        '''"
   ]
  },
  {
   "cell_type": "code",
   "execution_count": 14,
   "id": "ce042510",
   "metadata": {
    "execution": {
     "iopub.execute_input": "2024-11-04T20:21:05.705707Z",
     "iopub.status.busy": "2024-11-04T20:21:05.705422Z",
     "iopub.status.idle": "2024-11-04T20:21:05.710313Z",
     "shell.execute_reply": "2024-11-04T20:21:05.709455Z"
    },
    "papermill": {
     "duration": 0.02298,
     "end_time": "2024-11-04T20:21:05.712096",
     "exception": false,
     "start_time": "2024-11-04T20:21:05.689116",
     "status": "completed"
    },
    "tags": []
   },
   "outputs": [],
   "source": [
    "class spacy_tokenizer():\n",
    "    def __init__(self):\n",
    "        self.spacy_eng = spacy.load(\"en_core_web_sm\")\n",
    "\n",
    "    def __call__(self, text):\n",
    "        return [tok.text.lower() for tok in self.spacy_eng.tokenizer(text)]"
   ]
  },
  {
   "cell_type": "code",
   "execution_count": 15,
   "id": "20cfdd18",
   "metadata": {
    "execution": {
     "iopub.execute_input": "2024-11-04T20:21:05.744056Z",
     "iopub.status.busy": "2024-11-04T20:21:05.743794Z",
     "iopub.status.idle": "2024-11-04T20:21:05.756538Z",
     "shell.execute_reply": "2024-11-04T20:21:05.755849Z"
    },
    "id": "k-ykUWhKusyh",
    "papermill": {
     "duration": 0.030777,
     "end_time": "2024-11-04T20:21:05.758400",
     "exception": false,
     "start_time": "2024-11-04T20:21:05.727623",
     "status": "completed"
    },
    "tags": []
   },
   "outputs": [],
   "source": [
    "class Vocabulary:\n",
    "    def __init__(self, callable_tokenizer=None, max_freq=3, unk=True, sos=False, eos=False):\n",
    "\n",
    "        self.sos = sos\n",
    "        self.eos = eos\n",
    "        self.unk = unk\n",
    "        if callable_tokenizer:\n",
    "            self.callable_tokenizer = callable_tokenizer\n",
    "        else:\n",
    "            self.callable_tokenizer = spacy_tokenizer()\n",
    "\n",
    "        self.stoi = {\"<PAD>\": 0}\n",
    "        if self.unk:\n",
    "            self.stoi['<UNK>'] = len(self.stoi)\n",
    "        if self.sos:\n",
    "            self.stoi['<SOS>'] = len(self.stoi)\n",
    "        if self.eos:\n",
    "            self.stoi['<EOS>'] = len(self.stoi)\n",
    "        \n",
    "    def __len__(self):\n",
    "        return len(self.stoi)\n",
    "\n",
    "    def get_vocabulary(self):\n",
    "        return self.stoi\n",
    "\n",
    "    def add_token(self, token_name: str):\n",
    "        if token_name not in self.stoi:\n",
    "            self.stoi[token_name] = len(self.stoi)\n",
    "\n",
    "    def build_vocabulary(self, sentences_list):\n",
    "        if type(sentences_list[0]) != str:\n",
    "            ## ex: [['eating', 'apples'], ['eating', 'oranges']]\n",
    "            sentences_list = [' '.join(sen) for sen in sentences_list]\n",
    "\n",
    "        word_counts = Counter()\n",
    "        for sentence in sentences_list:\n",
    "            tokens = self.callable_tokenizer(sentence)\n",
    "            word_counts.update(tokens)\n",
    "\n",
    "        # Filter words with mox_freq or more occurrences\n",
    "        filtered_words = [word for word, count in word_counts.items() if count >= 3]\n",
    "        for word in filtered_words:\n",
    "            if word not in self.stoi:\n",
    "                self.stoi[word] = len(self.stoi)\n",
    "\n",
    "    def get_numerical_tokens(self, text: str):\n",
    "        tokens = self.callable_tokenizer(text)\n",
    "        # tokens.insert(0, '<SOS>') if self.sos else None\n",
    "        # tokens.append('<EOS>') if self.eos else None\n",
    "        unk_id = self.stoi.get('<UNK>', None)\n",
    "        return [self.stoi.get(word, unk_id) for word in tokens]\n",
    "\n",
    "    def __call__(self, text: str):\n",
    "        return self.get_numerical_tokens(text)\n",
    "\n",
    "    def tokens_to_text(self, tokens_list):\n",
    "        keys = list(self.stoi.keys())\n",
    "        values = list(self.stoi.values())\n",
    "\n",
    "        return ' '.join([keys[values.index(token)] for token in tokens_list])"
   ]
  },
  {
   "cell_type": "code",
   "execution_count": 16,
   "id": "b76e2eec",
   "metadata": {
    "execution": {
     "iopub.execute_input": "2024-11-04T20:21:05.790457Z",
     "iopub.status.busy": "2024-11-04T20:21:05.790115Z",
     "iopub.status.idle": "2024-11-04T20:21:05.798228Z",
     "shell.execute_reply": "2024-11-04T20:21:05.797484Z"
    },
    "id": "i8B7fMxK3n_Y",
    "papermill": {
     "duration": 0.026106,
     "end_time": "2024-11-04T20:21:05.800175",
     "exception": false,
     "start_time": "2024-11-04T20:21:05.774069",
     "status": "completed"
    },
    "tags": []
   },
   "outputs": [],
   "source": [
    "class Custom_Dataset(Dataset):\n",
    "\n",
    "    def __init__(self, sentences_list, labels_text, callable_final_vocabulary: Vocabulary, classes_dict: dict, maxlen):\n",
    "\n",
    "        super(Custom_Dataset, self).__init__()\n",
    "        self.raw_sentences = sentences_list\n",
    "        self.labels_text = labels_text\n",
    "        self.callable_final_vocabulary = callable_final_vocabulary\n",
    "        self.classes_dict = classes_dict\n",
    "        self.maxlen = maxlen\n",
    "\n",
    "    def __len__(self):\n",
    "        return len(self.raw_sentences)\n",
    "\n",
    "    def __getitem__(self, index):\n",
    "        text, label_text = self.raw_sentences[index], self.labels_text[index]\n",
    "\n",
    "        label = self.classes_dict[label_text]\n",
    "        num_tokens = self.callable_final_vocabulary(text)\n",
    "\n",
    "        ## You will need to set sos, eos for vocab first\n",
    "        num_tokens = [self.callable_final_vocabulary.get_vocabulary().get('<SOS>', None)] + num_tokens + [self.callable_final_vocabulary.get_vocabulary().get('<EOS>', None)]\n",
    "        num_tokens = [tk for tk in num_tokens if tk is not None]\n",
    "        num_tokens = num_tokens[:self.maxlen] if len(num_tokens)>self.maxlen else num_tokens\n",
    "        \n",
    "        return torch.tensor(num_tokens), torch.tensor(label).float()\n"
   ]
  },
  {
   "cell_type": "code",
   "execution_count": 17,
   "id": "c401383f",
   "metadata": {
    "execution": {
     "iopub.execute_input": "2024-11-04T20:21:05.831848Z",
     "iopub.status.busy": "2024-11-04T20:21:05.831556Z",
     "iopub.status.idle": "2024-11-04T20:21:05.838001Z",
     "shell.execute_reply": "2024-11-04T20:21:05.837139Z"
    },
    "id": "fPRvoFI3k3Jk",
    "papermill": {
     "duration": 0.024476,
     "end_time": "2024-11-04T20:21:05.839992",
     "exception": false,
     "start_time": "2024-11-04T20:21:05.815516",
     "status": "completed"
    },
    "tags": []
   },
   "outputs": [],
   "source": [
    "class MYCollate():\n",
    "    def __init__(self, batch_first=True, pad_value=0):\n",
    "        self.pad_value = pad_value\n",
    "        self.batch_first = batch_first\n",
    "\n",
    "    def __call__(self, data):\n",
    "        stentences = [ex[0] for ex in data]\n",
    "        labels = torch.tensor([ex[1] for ex in data])\n",
    "\n",
    "        padded_stentences = nn.utils.rnn.pad_sequence(stentences, batch_first=self.batch_first,\n",
    "                                                      padding_value=self.pad_value)\n",
    "        return padded_stentences, labels\n",
    "\n",
    "# def get_dataloader(sentences_list, labels_list, callable_final_vocab:Vocabulary, classes_dict,\n",
    "#                    collate_batch_first, colate_padding_side,\n",
    "#                    batch_size, shuffle, num_workers, pin_memory):\n",
    "\n",
    "#     dataset = Custom_Dataset(sentences_list, labels_list, callable_final_vocab, classes_dict)\n",
    "\n",
    "#     pad_value = callable_final_vocab.get_vocabulary().get('<PAD>', 0)\n",
    "\n",
    "#     collate_fn = MYCollate(collate_batch_first, pad_value, colate_padding_side)\n",
    "\n",
    "#     loader = DataLoader(dataset, batch_size=batch_size, shuffle=shuffle, collate_fn=collate_fn,\n",
    "#                         num_workers=num_workers, pin_memory=pin_memory)\n",
    "\n",
    "#     return loader"
   ]
  },
  {
   "cell_type": "code",
   "execution_count": 19,
   "id": "e2d6eb61",
   "metadata": {
    "execution": {
     "iopub.execute_input": "2024-11-04T20:21:07.295769Z",
     "iopub.status.busy": "2024-11-04T20:21:07.294909Z",
     "iopub.status.idle": "2024-11-04T20:21:57.915845Z",
     "shell.execute_reply": "2024-11-04T20:21:57.914812Z"
    },
    "id": "PCS6BnH06OC1",
    "outputId": "5c0a0f3c-9975-41c6-94de-b6e2c77bb884",
    "papermill": {
     "duration": 50.654611,
     "end_time": "2024-11-04T20:21:57.933303",
     "exception": false,
     "start_time": "2024-11-04T20:21:07.278692",
     "status": "completed"
    },
    "tags": []
   },
   "outputs": [
    {
     "name": "stdout",
     "output_type": "stream",
     "text": [
      "len(vocab) = 52434\n"
     ]
    }
   ],
   "source": [
    "# word_tokenizer = spacy_tokenizer_eng\n",
    "vocab = Vocabulary(max_freq=max_freq, unk=True, sos=False, eos=False)\n",
    "vocab.build_vocabulary(df_reviews_train['review'].values)\n",
    "\n",
    "print(f'{len(vocab) = }')"
   ]
  },
  {
   "cell_type": "code",
   "execution_count": 20,
   "id": "7a43d24b",
   "metadata": {
    "execution": {
     "iopub.execute_input": "2024-11-04T20:21:57.965382Z",
     "iopub.status.busy": "2024-11-04T20:21:57.965056Z",
     "iopub.status.idle": "2024-11-04T20:21:57.971499Z",
     "shell.execute_reply": "2024-11-04T20:21:57.970653Z"
    },
    "id": "UUAtsGTuPP2L",
    "papermill": {
     "duration": 0.02459,
     "end_time": "2024-11-04T20:21:57.973299",
     "exception": false,
     "start_time": "2024-11-04T20:21:57.948709",
     "status": "completed"
    },
    "tags": []
   },
   "outputs": [],
   "source": [
    "classes_dict = {'negative': 0, 'positive': 1}\n",
    "train_ds = Custom_Dataset(df_reviews_train['review'].values, df_reviews_train['sentiment'].values,\n",
    "                          callable_final_vocabulary=vocab, classes_dict=classes_dict, maxlen=maxlen)\n",
    "\n",
    "valid_ds = Custom_Dataset(df_reviews_valid['review'].values, df_reviews_valid['sentiment'].values,\n",
    "                          callable_final_vocabulary=vocab, classes_dict=classes_dict, maxlen=maxlen)\n",
    "\n",
    "test_ds = Custom_Dataset(df_reviews_test['review'].values, df_reviews_test['sentiment'].values,\n",
    "                          callable_final_vocabulary=vocab, classes_dict=classes_dict, maxlen=maxlen)"
   ]
  },
  {
   "cell_type": "code",
   "execution_count": 21,
   "id": "ebb2b3cd",
   "metadata": {
    "execution": {
     "iopub.execute_input": "2024-11-04T20:21:58.005034Z",
     "iopub.status.busy": "2024-11-04T20:21:58.004763Z",
     "iopub.status.idle": "2024-11-04T20:21:58.148333Z",
     "shell.execute_reply": "2024-11-04T20:21:58.147365Z"
    },
    "id": "KMIME1CRZ7Im",
    "outputId": "f835eace-799e-40f6-c876-1436f99ee9ef",
    "papermill": {
     "duration": 0.161558,
     "end_time": "2024-11-04T20:21:58.150277",
     "exception": false,
     "start_time": "2024-11-04T20:21:57.988719",
     "status": "completed"
    },
    "tags": []
   },
   "outputs": [
    {
     "data": {
      "text/plain": [
       "(tensor([ 62, 381, 382, 328, 383,  31,   1,  10, 201,  55, 382, 324,  23, 384,\n",
       "         385,  61, 386, 387,  17, 182, 167,  42, 388, 187, 389, 390,  45, 391,\n",
       "         392,  45, 329,  70,  13,  10, 328, 393,  61,  62, 394,  36, 395,  38,\n",
       "          67,  45,  87,  62, 396, 397,  91, 398,  91,  62, 399, 400,  17, 401,\n",
       "          23,  62, 402, 403,  42, 404, 405,  45, 406,  23,  91,  10, 328, 407,\n",
       "         127, 408,  10, 409, 410,  10, 411,  69,  58, 412, 413, 414,  17, 182,\n",
       "         357, 415, 158,  10, 416, 417,   2, 418, 406,  23,  62, 419,  17, 306,\n",
       "         328,  23]),\n",
       " tensor(1.))"
      ]
     },
     "execution_count": 21,
     "metadata": {},
     "output_type": "execute_result"
    }
   ],
   "source": [
    "train_ds[2]"
   ]
  },
  {
   "cell_type": "code",
   "execution_count": 22,
   "id": "1ef4f012",
   "metadata": {
    "execution": {
     "iopub.execute_input": "2024-11-04T20:21:58.182343Z",
     "iopub.status.busy": "2024-11-04T20:21:58.182071Z",
     "iopub.status.idle": "2024-11-04T20:22:00.045762Z",
     "shell.execute_reply": "2024-11-04T20:22:00.044595Z"
    },
    "id": "AZn9e3Ck6Nxw",
    "outputId": "a233bf0a-5455-4938-86dd-d6f9a8084d71",
    "papermill": {
     "duration": 1.882075,
     "end_time": "2024-11-04T20:22:00.047923",
     "exception": false,
     "start_time": "2024-11-04T20:21:58.165848",
     "status": "completed"
    },
    "tags": []
   },
   "outputs": [
    {
     "name": "stdout",
     "output_type": "stream",
     "text": [
      "torch.Size([64, 100])\n",
      "torch.Size([64])\n"
     ]
    }
   ],
   "source": [
    "mycollate = MYCollate(batch_first=True, pad_value=0)\n",
    "pin_memory = True if device == 'cuda' else False\n",
    "num_workers = 4 if isKaggle else 2\n",
    "\n",
    "train_loader = DataLoader(train_ds, batch_size=batch_size, shuffle=True,\n",
    "                          collate_fn=mycollate, num_workers=num_workers,\n",
    "                          generator=g, pin_memory=pin_memory)\n",
    "\n",
    "valid_loader = DataLoader(valid_ds, batch_size=batch_size, shuffle=False,\n",
    "                          collate_fn=mycollate, num_workers=num_workers,\n",
    "                          generator=g, pin_memory=pin_memory)\n",
    "\n",
    "test_loader = DataLoader(test_ds, batch_size=batch_size, shuffle=False,\n",
    "                         collate_fn=mycollate, num_workers=num_workers,\n",
    "                         generator=g, pin_memory=pin_memory)\n",
    "\n",
    "for x, y in train_loader:\n",
    "    print(x.shape)\n",
    "    print(y.shape)\n",
    "    break"
   ]
  },
  {
   "cell_type": "markdown",
   "id": "272db709",
   "metadata": {
    "id": "YLxV3XsbhkDI",
    "papermill": {
     "duration": 0.015723,
     "end_time": "2024-11-04T20:22:00.079626",
     "exception": false,
     "start_time": "2024-11-04T20:22:00.063903",
     "status": "completed"
    },
    "tags": []
   },
   "source": [
    "Very useful late known INFO :)\n",
    "\n",
    "  - As we all know at feedforward layers number of input features must be the same for all data that will go throu the model. input shape (Batch, features)\n",
    "\n",
    "\n",
    "\n",
    "  - And for CNN layers all data that will go throu the model must have same channel length, but for each example in the batch must have same shapes(H,W). input shape (Batch,C,H,W)\n",
    "\n",
    "\n",
    "\n",
    "  - And for RNN layers data in one batch must have same sequence_length but batches can have different sequence_lengths. input shape (Batch, sequence_length, embedding_features)\n",
    "\n",
    "\n",
    "\n",
    "**The Difference between CNNs and RNNs is that when you pass image with different hight and width than that model was training on, you will get bad results or may be dims mismatched error (if not followed by global average pooling), but for RNNs things are different.**\n"
   ]
  },
  {
   "cell_type": "markdown",
   "id": "f0a49f9f",
   "metadata": {
    "id": "G1k-4v6q5cxN",
    "papermill": {
     "duration": 0.015324,
     "end_time": "2024-11-04T20:22:00.110494",
     "exception": false,
     "start_time": "2024-11-04T20:22:00.095170",
     "status": "completed"
    },
    "tags": []
   },
   "source": [
    "### Form Embedding matrix step"
   ]
  },
  {
   "cell_type": "code",
   "execution_count": 23,
   "id": "094672b2",
   "metadata": {
    "execution": {
     "iopub.execute_input": "2024-11-04T20:22:00.143521Z",
     "iopub.status.busy": "2024-11-04T20:22:00.142642Z",
     "iopub.status.idle": "2024-11-04T20:25:07.492751Z",
     "shell.execute_reply": "2024-11-04T20:25:07.491513Z"
    },
    "id": "fzt2GsXxzJ6S",
    "papermill": {
     "duration": 187.370135,
     "end_time": "2024-11-04T20:25:07.496039",
     "exception": false,
     "start_time": "2024-11-04T20:22:00.125904",
     "status": "completed"
    },
    "tags": []
   },
   "outputs": [
    {
     "name": "stdout",
     "output_type": "stream",
     "text": [
      "--2024-11-04 20:22:01--  https://nlp.stanford.edu/data/glove.6B.zip\r\n",
      "Resolving nlp.stanford.edu (nlp.stanford.edu)... 171.64.67.140\r\n",
      "Connecting to nlp.stanford.edu (nlp.stanford.edu)|171.64.67.140|:443... connected.\r\n",
      "HTTP request sent, awaiting response... 301 Moved Permanently\r\n",
      "Location: https://downloads.cs.stanford.edu/nlp/data/glove.6B.zip [following]\r\n",
      "--2024-11-04 20:22:01--  https://downloads.cs.stanford.edu/nlp/data/glove.6B.zip\r\n",
      "Resolving downloads.cs.stanford.edu (downloads.cs.stanford.edu)... 171.64.64.22\r\n",
      "Connecting to downloads.cs.stanford.edu (downloads.cs.stanford.edu)|171.64.64.22|:443... connected.\r\n",
      "HTTP request sent, awaiting response... 200 OK\r\n",
      "Length: 862182613 (822M) [application/zip]\r\n",
      "Saving to: 'glove.6B.zip'\r\n",
      "\r\n",
      "glove.6B.zip        100%[===================>] 822.24M  5.09MB/s    in 3m 3s   \r\n",
      "\r\n",
      "2024-11-04 20:25:05 (4.50 MB/s) - 'glove.6B.zip' saved [862182613/862182613]\r\n",
      "\r\n"
     ]
    }
   ],
   "source": [
    "!wget https://nlp.stanford.edu/data/glove.6B.zip\n",
    "\n",
    "with ZipFile(f'{base_dir}/glove.6B.zip') as file:\n",
    "    file.extract('glove.6B.100d.txt')"
   ]
  },
  {
   "cell_type": "code",
   "execution_count": 24,
   "id": "0762a26c",
   "metadata": {
    "execution": {
     "iopub.execute_input": "2024-11-04T20:25:07.702626Z",
     "iopub.status.busy": "2024-11-04T20:25:07.701622Z",
     "iopub.status.idle": "2024-11-04T20:25:13.597968Z",
     "shell.execute_reply": "2024-11-04T20:25:13.596884Z"
    },
    "id": "YyCKTTlk5m0p",
    "outputId": "ba2d6fdc-8ca9-4f91-8ae7-16b292652748",
    "papermill": {
     "duration": 5.977415,
     "end_time": "2024-11-04T20:25:13.600129",
     "exception": false,
     "start_time": "2024-11-04T20:25:07.622714",
     "status": "completed"
    },
    "tags": []
   },
   "outputs": [
    {
     "name": "stdout",
     "output_type": "stream",
     "text": [
      "Found 44254 words.\n",
      "Embedding matrix shape:  torch.Size([52434, 100])\n"
     ]
    }
   ],
   "source": [
    "# form an embedding matrix form glove pre-trained embedding weights for my vocab\n",
    "glove_embeddings_index = dict()\n",
    "embedding_matrix = torch.zeros((len(vocab), embd_features))\n",
    "vocab_dict = vocab.get_vocabulary()\n",
    "found = 0\n",
    "\n",
    "with open('glove.6B.100d.txt') as f:\n",
    "    for line in f:\n",
    "        values = line.split()\n",
    "        word = values[0]\n",
    "\n",
    "        # token = word_tokenizer.word_tokenizing(word, stemming=False)\n",
    "        token = word\n",
    "        if token:\n",
    "            # print(word)\n",
    "            idx = vocab_dict.get(token, 0)\n",
    "            if idx:\n",
    "                found += 1\n",
    "                coefs = torch.tensor([float(value) for value in values[1:]])\n",
    "                embedding_matrix[idx] = coefs\n",
    "                # glove_embeddings_index[word] = coefs\n",
    "\n",
    "print('Found %s words.' % found)\n",
    "print(\"Embedding matrix shape: \" ,embedding_matrix.shape)\n"
   ]
  },
  {
   "cell_type": "code",
   "execution_count": 25,
   "id": "d8e5a112",
   "metadata": {
    "execution": {
     "iopub.execute_input": "2024-11-04T20:25:13.755579Z",
     "iopub.status.busy": "2024-11-04T20:25:13.755163Z",
     "iopub.status.idle": "2024-11-04T20:25:14.741765Z",
     "shell.execute_reply": "2024-11-04T20:25:14.740485Z"
    },
    "id": "YC7U89XCV_lw",
    "outputId": "0fac883d-96d0-41b6-bb63-4b8be6b48367",
    "papermill": {
     "duration": 1.066446,
     "end_time": "2024-11-04T20:25:14.743915",
     "exception": false,
     "start_time": "2024-11-04T20:25:13.677469",
     "status": "completed"
    },
    "tags": []
   },
   "outputs": [
    {
     "name": "stdout",
     "output_type": "stream",
     "text": [
      "Before Embedding layer\t\ttorch.Size([64, 100])\t\ttorch.Size([64])\n",
      "After Embedding layer\t\ttorch.Size([64, 100, 100])\ttorch.Size([64])\n"
     ]
    }
   ],
   "source": [
    "for x, y in test_loader:\n",
    "    print('Before Embedding layer', x.shape, y.shape, sep='\\t\\t')\n",
    "    emb = embedding_matrix[x]\n",
    "    print('After Embedding layer\\t', emb.shape, y.shape, sep='\\t')\n",
    "    break"
   ]
  },
  {
   "cell_type": "markdown",
   "id": "0447214a",
   "metadata": {
    "id": "wHu_5YJSXjvT",
    "papermill": {
     "duration": 0.075229,
     "end_time": "2024-11-04T20:25:14.895846",
     "exception": false,
     "start_time": "2024-11-04T20:25:14.820617",
     "status": "completed"
    },
    "tags": []
   },
   "source": [
    "## `STEP: MODELS TRAINING && Evaluation`"
   ]
  },
  {
   "cell_type": "markdown",
   "id": "b0be6084",
   "metadata": {
    "id": "uA29cBHzyd3V",
    "papermill": {
     "duration": 0.074928,
     "end_time": "2024-11-04T20:25:15.045887",
     "exception": false,
     "start_time": "2024-11-04T20:25:14.970959",
     "status": "completed"
    },
    "tags": []
   },
   "source": [
    "### Defining"
   ]
  },
  {
   "cell_type": "code",
   "execution_count": 26,
   "id": "23c621b8",
   "metadata": {
    "execution": {
     "iopub.execute_input": "2024-11-04T20:25:15.198759Z",
     "iopub.status.busy": "2024-11-04T20:25:15.197906Z",
     "iopub.status.idle": "2024-11-04T20:25:15.207823Z",
     "shell.execute_reply": "2024-11-04T20:25:15.206768Z"
    },
    "id": "BvIaw4CvAP94",
    "papermill": {
     "duration": 0.088394,
     "end_time": "2024-11-04T20:25:15.209621",
     "exception": false,
     "start_time": "2024-11-04T20:25:15.121227",
     "status": "completed"
    },
    "tags": []
   },
   "outputs": [],
   "source": [
    "## Helper\n",
    "@torch.no_grad()\n",
    "def loss_acc_loader(model, data_loader, device):\n",
    "    model.eval()\n",
    "\n",
    "    total_predicts = []\n",
    "    total_targets = []\n",
    "    total_class_loss = 0\n",
    "\n",
    "    for data, labels in data_loader:\n",
    "        data = data.to(device)\n",
    "        labels = labels.view(-1,1).to(device)\n",
    "\n",
    "        class_logits = model(data)\n",
    "\n",
    "        total_class_loss += class_criterion(class_logits, labels).item()\n",
    "\n",
    "        total_predicts.append((class_logits>=0.5).float())\n",
    "        total_targets.append(labels)\n",
    "\n",
    "    total_predicts = torch.concat(total_predicts)\n",
    "    total_targets = torch.concat(total_targets)\n",
    "\n",
    "    avg_class_loss = total_class_loss / len(data_loader)\n",
    "    accuracy = (total_predicts == total_targets).float().mean().item()\n",
    "\n",
    "    return avg_class_loss, accuracy, total_predicts, total_targets\n",
    "\n",
    "\n",
    "def get_parameters_info(model):\n",
    "    trainable = sum(p.numel() for p in model.parameters() if p.requires_grad==True)\n",
    "    nontrainable = sum(p.numel() for p in model.parameters() if p.requires_grad==False)\n",
    "\n",
    "    return trainable, nontrainable"
   ]
  },
  {
   "cell_type": "code",
   "execution_count": 27,
   "id": "f7ba37bb",
   "metadata": {
    "execution": {
     "iopub.execute_input": "2024-11-04T20:25:15.363264Z",
     "iopub.status.busy": "2024-11-04T20:25:15.362459Z",
     "iopub.status.idle": "2024-11-04T20:25:15.373109Z",
     "shell.execute_reply": "2024-11-04T20:25:15.371859Z"
    },
    "id": "OUHrGsg1TYGo",
    "papermill": {
     "duration": 0.089583,
     "end_time": "2024-11-04T20:25:15.374983",
     "exception": false,
     "start_time": "2024-11-04T20:25:15.285400",
     "status": "completed"
    },
    "tags": []
   },
   "outputs": [],
   "source": [
    "class Sentiment_LSTM(nn.Module):\n",
    "    def __init__(self, embedding_matrix:torch.Tensor, lstm_hidden_size, lstm_layers, linear_hidden_size):\n",
    "        super(Sentiment_LSTM, self).__init__()\n",
    "\n",
    "        self.input_size = embedding_matrix.size(-1)\n",
    "        self.lstm_hidden_size = lstm_hidden_size\n",
    "        self.lstm_layers = lstm_layers\n",
    "        self.linear_hidden_size = linear_hidden_size\n",
    "\n",
    "        self.embedding_matrix = nn.Embedding.from_pretrained(embedding_matrix, freeze=False)\n",
    "\n",
    "        self.lstm = nn.LSTM(input_size=self.input_size, hidden_size=self.lstm_hidden_size,\n",
    "                          num_layers=self.lstm_layers, batch_first=True)\n",
    "\n",
    "        # We will use only the last hidden state of the last layer for the prediction\n",
    "        self.fc = nn.Sequential(nn.Linear(self.lstm_hidden_size, self.linear_hidden_size),\n",
    "                                nn.ReLU(), nn.Dropout(0.3))\n",
    "\n",
    "        self.classifier = nn.Linear(self.linear_hidden_size, 1)\n",
    "\n",
    "    def forward(self, x):\n",
    "        h_0 = torch.zeros((self.lstm_layers, x.size(0), self.lstm_hidden_size)).to(device)\n",
    "        c_0 = torch.zeros((self.lstm_layers, x.size(0), self.lstm_hidden_size)).to(device)\n",
    "\n",
    "        embds = self.embedding_matrix(x)\n",
    "        all_outputs, (h_final, c_final) = self.lstm(embds, (h_0, c_0))\n",
    "        h_final_final_layer = h_final[-1,:,:]\n",
    "\n",
    "        fc_out = self.fc(h_final_final_layer)\n",
    "\n",
    "        output = self.classifier(h_final_final_layer)\n",
    "        return nn.functional.sigmoid(output)"
   ]
  },
  {
   "cell_type": "code",
   "execution_count": 28,
   "id": "4ff96820",
   "metadata": {
    "execution": {
     "iopub.execute_input": "2024-11-04T20:25:15.528144Z",
     "iopub.status.busy": "2024-11-04T20:25:15.527854Z",
     "iopub.status.idle": "2024-11-04T20:25:16.800230Z",
     "shell.execute_reply": "2024-11-04T20:25:16.799274Z"
    },
    "id": "wpVfjVOUBC5v",
    "outputId": "99180949-4619-432e-a013-8ede1b0a86de",
    "papermill": {
     "duration": 1.351399,
     "end_time": "2024-11-04T20:25:16.802991",
     "exception": false,
     "start_time": "2024-11-04T20:25:15.451592",
     "status": "completed"
    },
    "tags": []
   },
   "outputs": [
    {
     "name": "stdout",
     "output_type": "stream",
     "text": [
      "Total trainable parameters = 5641993\n",
      "Total non-trainable parameters = 0\n"
     ]
    }
   ],
   "source": [
    "lstm_model = Sentiment_LSTM(embedding_matrix, lstm_hidden_size, lstm_layers, linear_hidden_size).to(device)\n",
    "tr, nontr = get_parameters_info(lstm_model)\n",
    "print(f\"Total trainable parameters = {tr}\\nTotal non-trainable parameters = {nontr}\")\n",
    "\n",
    "# class_criterion = nn.CrossEntropyLoss()  # Classification loss\n",
    "class_criterion = nn.BCELoss()  # Classification loss\n",
    "\n",
    "optim = torch.optim.Adam(lstm_model.parameters(), 0.001)"
   ]
  },
  {
   "cell_type": "markdown",
   "id": "8d3ac66d",
   "metadata": {
    "id": "BWGlbEfIYSxO",
    "papermill": {
     "duration": 0.07568,
     "end_time": "2024-11-04T20:25:16.961078",
     "exception": false,
     "start_time": "2024-11-04T20:25:16.885398",
     "status": "completed"
    },
    "tags": []
   },
   "source": [
    "### Training Loop"
   ]
  },
  {
   "cell_type": "code",
   "execution_count": 29,
   "id": "ede86b96",
   "metadata": {
    "execution": {
     "iopub.execute_input": "2024-11-04T20:25:17.117056Z",
     "iopub.status.busy": "2024-11-04T20:25:17.115876Z",
     "iopub.status.idle": "2024-11-04T20:25:17.120956Z",
     "shell.execute_reply": "2024-11-04T20:25:17.120056Z"
    },
    "papermill": {
     "duration": 0.085934,
     "end_time": "2024-11-04T20:25:17.122887",
     "exception": false,
     "start_time": "2024-11-04T20:25:17.036953",
     "status": "completed"
    },
    "tags": []
   },
   "outputs": [],
   "source": [
    "# ## overfit one-batch\n",
    "\n",
    "# x_batch, y_batch = next(iter(train_loader))\n",
    "# data = x_batch.to(device)\n",
    "# labels = y_batch.view(-1,1).to(device)\n",
    "# epochs = 300\n",
    "# for epoch in range(epochs):\n",
    "\n",
    "#     class_logits = lstm_model(data)\n",
    "\n",
    "#     loss = class_criterion(class_logits, labels)\n",
    "\n",
    "#     optim.zero_grad()\n",
    "#     loss.backward()\n",
    "#     optim.step()\n",
    "\n",
    "#     predictions = (class_logits>=0.5).float()\n",
    "#     if (epoch+1) % 100 == 0:\n",
    "#         print(f'Epoch {epoch+1}/{epochs}: ', end='\\t')\n",
    "#         print(f'Loss = {loss.item():.2f}', f'Accuracy = {(predictions==labels).sum()}')"
   ]
  },
  {
   "cell_type": "code",
   "execution_count": 30,
   "id": "04b4d167",
   "metadata": {
    "execution": {
     "iopub.execute_input": "2024-11-04T20:25:17.275823Z",
     "iopub.status.busy": "2024-11-04T20:25:17.275465Z",
     "iopub.status.idle": "2024-11-04T20:42:55.305102Z",
     "shell.execute_reply": "2024-11-04T20:42:55.303945Z"
    },
    "id": "FzJPHk6ADGoK",
    "outputId": "0c7e165d-887a-4670-e390-c3ebd297f357",
    "papermill": {
     "duration": 1058.109002,
     "end_time": "2024-11-04T20:42:55.307246",
     "exception": false,
     "start_time": "2024-11-04T20:25:17.198244",
     "status": "completed"
    },
    "tags": []
   },
   "outputs": [
    {
     "name": "stdout",
     "output_type": "stream",
     "text": [
      "Epoch 1/30: \n",
      " Train: Class Loss 0.6937, Accuracy 49.90%\n",
      "  Validation: Class Loss 0.6936, Accuracy 50.02%\n",
      "Epoch 2/30: \n",
      " Train: Class Loss 0.3118, Accuracy 87.16%\n",
      "  Validation: Class Loss 0.3895, Accuracy 82.60%\n",
      "Epoch 3/30: \n",
      " Train: Class Loss 0.2032, Accuracy 92.99%\n",
      "  Validation: Class Loss 0.3975, Accuracy 83.36%\n",
      "Epoch 4/30: \n",
      " Train: Class Loss 0.1071, Accuracy 97.14%\n",
      "  Validation: Class Loss 0.4249, Accuracy 82.92%\n",
      "Epoch 5/30: \n",
      " Train: Class Loss 0.0631, Accuracy 98.69%\n",
      "  Validation: Class Loss 0.5029, Accuracy 81.74%\n",
      "Epoch 6/30: \n",
      " Train: Class Loss 0.0308, Accuracy 99.36%\n",
      "  Validation: Class Loss 0.6811, Accuracy 82.00%\n",
      "Epoch 7/30: \n",
      " Train: Class Loss 0.0231, Accuracy 99.58%\n",
      "  Validation: Class Loss 0.7483, Accuracy 80.64%\n",
      "Epoch 8/30: \n",
      " Train: Class Loss 0.0154, Accuracy 99.74%\n",
      "  Validation: Class Loss 0.8954, Accuracy 80.76%\n",
      "Epoch 9/30: \n",
      " Train: Class Loss 0.0148, Accuracy 99.74%\n",
      "  Validation: Class Loss 1.0519, Accuracy 81.04%\n",
      "Epoch 10/30: \n",
      " Train: Class Loss 0.0140, Accuracy 99.76%\n",
      "  Validation: Class Loss 0.9488, Accuracy 80.74%\n",
      "Epoch 11/30: \n",
      " Train: Class Loss 0.0132, Accuracy 99.76%\n",
      "  Validation: Class Loss 1.0064, Accuracy 81.48%\n",
      "Epoch 12/30: \n",
      " Train: Class Loss 0.0101, Accuracy 99.85%\n",
      "  Validation: Class Loss 1.0189, Accuracy 81.34%\n",
      "Epoch 13/30: \n",
      " Train: Class Loss 0.0105, Accuracy 99.81%\n",
      "  Validation: Class Loss 1.0972, Accuracy 81.20%\n",
      "Epoch 14/30: \n",
      " Train: Class Loss 0.0084, Accuracy 99.89%\n",
      "  Validation: Class Loss 0.9970, Accuracy 80.28%\n",
      "Epoch 15/30: \n",
      " Train: Class Loss 0.0076, Accuracy 99.89%\n",
      "  Validation: Class Loss 1.0160, Accuracy 80.36%\n",
      "Epoch 16/30: \n",
      " Train: Class Loss 0.0074, Accuracy 99.88%\n",
      "  Validation: Class Loss 1.0825, Accuracy 80.34%\n",
      "Epoch 17/30: \n",
      " Train: Class Loss 0.0061, Accuracy 99.89%\n",
      "  Validation: Class Loss 1.1647, Accuracy 80.70%\n",
      "Epoch 18/30: \n",
      " Train: Class Loss 0.0038, Accuracy 99.94%\n",
      "  Validation: Class Loss 1.2997, Accuracy 80.46%\n",
      "Epoch 19/30: \n",
      " Train: Class Loss 0.0034, Accuracy 99.94%\n",
      "  Validation: Class Loss 1.2722, Accuracy 80.16%\n",
      "Epoch 20/30: \n",
      " Train: Class Loss 0.0108, Accuracy 99.66%\n",
      "  Validation: Class Loss 1.3540, Accuracy 79.56%\n",
      "Epoch 21/30: \n",
      " Train: Class Loss 0.0025, Accuracy 99.96%\n",
      "  Validation: Class Loss 1.2068, Accuracy 80.96%\n",
      "Epoch 22/30: \n",
      " Train: Class Loss 0.0031, Accuracy 99.94%\n",
      "  Validation: Class Loss 1.2500, Accuracy 80.56%\n",
      "Epoch 23/30: \n",
      " Train: Class Loss 0.0017, Accuracy 99.97%\n",
      "  Validation: Class Loss 1.2482, Accuracy 80.66%\n",
      "Epoch 24/30: \n",
      " Train: Class Loss 0.0013, Accuracy 99.98%\n",
      "  Validation: Class Loss 1.2615, Accuracy 79.88%\n",
      "Epoch 25/30: \n",
      " Train: Class Loss 0.0007, Accuracy 99.99%\n",
      "  Validation: Class Loss 1.5024, Accuracy 79.76%\n",
      "Epoch 26/30: \n",
      " Train: Class Loss 0.0007, Accuracy 99.99%\n",
      "  Validation: Class Loss 1.5768, Accuracy 79.64%\n",
      "Epoch 27/30: \n",
      " Train: Class Loss 0.0014, Accuracy 99.96%\n",
      "  Validation: Class Loss 1.4883, Accuracy 79.06%\n",
      "Epoch 28/30: \n",
      " Train: Class Loss 0.0002, Accuracy 100.00%\n",
      "  Validation: Class Loss 1.6652, Accuracy 80.22%\n",
      "Epoch 29/30: \n",
      " Train: Class Loss 0.0000, Accuracy 100.00%\n",
      "  Validation: Class Loss 1.8971, Accuracy 80.22%\n",
      "Epoch 30/30: \n",
      " Train: Class Loss 0.0000, Accuracy 100.00%\n",
      "  Validation: Class Loss 1.9780, Accuracy 80.26%\n"
     ]
    }
   ],
   "source": [
    "total_batches = len(train_loader)\n",
    "train_class_losses = []\n",
    "val_class_losses = []\n",
    "\n",
    "for epoch in range(epochs):\n",
    "    lstm_model.train()  # Set the model to training mode\n",
    "\n",
    "    print(f'Epoch {epoch+1}/{epochs}: ', end='\\n')\n",
    "    for batch_idx, (data, labels) in enumerate(train_loader):\n",
    "\n",
    "        data = data.to(device)\n",
    "        labels = labels.view(-1,1).to(device)\n",
    "\n",
    "        class_logits = lstm_model(data)\n",
    "\n",
    "        loss = class_criterion(class_logits, labels)\n",
    "\n",
    "        optim.zero_grad()\n",
    "        loss.backward()\n",
    "        optim.step()\n",
    "\n",
    "    # Running model on the entire train and validation dataset after each epoch\n",
    "    train_class_loss, train_accuracy, _, _ = loss_acc_loader(lstm_model, train_loader, device)\n",
    "    train_class_losses.append(train_class_loss)\n",
    "    print(f' Train: Class Loss {train_class_loss:.4f}, Accuracy {train_accuracy*100:.2f}%')\n",
    "\n",
    "    val_class_loss, val_accuracy, _, _ = loss_acc_loader(lstm_model, valid_loader, device)\n",
    "    val_class_losses.append(val_class_loss)\n",
    "    print(f'  Validation: Class Loss {val_class_loss:.4f}, Accuracy {val_accuracy*100:.2f}%')"
   ]
  },
  {
   "cell_type": "code",
   "execution_count": 31,
   "id": "57fddd52",
   "metadata": {
    "execution": {
     "iopub.execute_input": "2024-11-04T20:42:55.472061Z",
     "iopub.status.busy": "2024-11-04T20:42:55.471452Z",
     "iopub.status.idle": "2024-11-04T20:42:55.704250Z",
     "shell.execute_reply": "2024-11-04T20:42:55.703300Z"
    },
    "id": "dJk5BrngX-sk",
    "papermill": {
     "duration": 0.316277,
     "end_time": "2024-11-04T20:42:55.706356",
     "exception": false,
     "start_time": "2024-11-04T20:42:55.390079",
     "status": "completed"
    },
    "tags": []
   },
   "outputs": [
    {
     "data": {
      "image/png": "[encoded data removed]",
      "text/plain": [
       "<Figure size 800x300 with 1 Axes>"
      ]
     },
     "metadata": {},
     "output_type": "display_data"
    }
   ],
   "source": [
    "plt.figure(figsize=(8, 3))\n",
    "plt.plot([ep+1 for ep in range(len(train_class_losses))], train_class_losses, val_class_losses)\n",
    "plt.xlabel('Epochs')\n",
    "plt.ylabel('Class Loss')\n",
    "plt.show()"
   ]
  },
  {
   "cell_type": "markdown",
   "id": "31e23661",
   "metadata": {
    "id": "wfJjXkC0YNLh",
    "papermill": {
     "duration": 0.080551,
     "end_time": "2024-11-04T20:42:55.867604",
     "exception": false,
     "start_time": "2024-11-04T20:42:55.787053",
     "status": "completed"
    },
    "tags": []
   },
   "source": [
    "### Evaluation"
   ]
  },
  {
   "cell_type": "code",
   "execution_count": 32,
   "id": "f5463109",
   "metadata": {
    "execution": {
     "iopub.execute_input": "2024-11-04T20:42:56.029968Z",
     "iopub.status.busy": "2024-11-04T20:42:56.029631Z",
     "iopub.status.idle": "2024-11-04T20:42:58.561038Z",
     "shell.execute_reply": "2024-11-04T20:42:58.559933Z"
    },
    "id": "9-BfM1wb3J_U",
    "papermill": {
     "duration": 2.615123,
     "end_time": "2024-11-04T20:42:58.563122",
     "exception": false,
     "start_time": "2024-11-04T20:42:55.947999",
     "status": "completed"
    },
    "tags": []
   },
   "outputs": [
    {
     "name": "stdout",
     "output_type": "stream",
     "text": [
      "Test: Class Loss 1.9097, Accuracy 81.04%\n"
     ]
    }
   ],
   "source": [
    "test_class_loss, test_accuracy, _, _ = loss_acc_loader(lstm_model, test_loader, device)\n",
    "\n",
    "print(f'Test: Class Loss {test_class_loss:.4f}, Accuracy {test_accuracy*100:.2f}%')"
   ]
  },
  {
   "cell_type": "code",
   "execution_count": null,
   "id": "1ca6cd89",
   "metadata": {
    "id": "23jYLxCZ4EEb",
    "papermill": {
     "duration": 0.080789,
     "end_time": "2024-11-04T20:42:58.725391",
     "exception": false,
     "start_time": "2024-11-04T20:42:58.644602",
     "status": "completed"
    },
    "tags": []
   },
   "outputs": [],
   "source": []
  },
  {
   "cell_type": "markdown",
   "id": "9a6e6149",
   "metadata": {
    "id": "M4xRtPCkYmDF",
    "papermill": {
     "duration": 0.080737,
     "end_time": "2024-11-04T20:42:58.886353",
     "exception": false,
     "start_time": "2024-11-04T20:42:58.805616",
     "status": "completed"
    },
    "tags": []
   },
   "source": [
    "### Saving"
   ]
  },
  {
   "cell_type": "code",
   "execution_count": 33,
   "id": "c28102a2",
   "metadata": {
    "execution": {
     "iopub.execute_input": "2024-11-04T20:42:59.049600Z",
     "iopub.status.busy": "2024-11-04T20:42:59.048622Z",
     "iopub.status.idle": "2024-11-04T20:43:00.435132Z",
     "shell.execute_reply": "2024-11-04T20:43:00.434099Z"
    },
    "id": "0yEb_8Uc17dh",
    "papermill": {
     "duration": 1.470897,
     "end_time": "2024-11-04T20:43:00.437586",
     "exception": false,
     "start_time": "2024-11-04T20:42:58.966689",
     "status": "completed"
    },
    "tags": []
   },
   "outputs": [],
   "source": [
    "model_states = {'optim_state': optim.state_dict(),\n",
    "                'class_dict': classes_dict,\n",
    "                # 'Tokenizer': word_tokenizer,\n",
    "                'vocabulary': vocab,\n",
    "                'loss_tr': train_class_loss,\n",
    "                'loss_ts': test_class_loss}\n",
    "\n",
    "torch.save(model_states, f'{base_dir}/lstm_model_states.pt')\n",
    "## Save Entire Model\n",
    "torch.save(lstm_model, f'{base_dir}/lstm_model.bin')"
   ]
  }
 ],
 "metadata": {
  "colab": {
   "collapsed_sections": [
    "TNCEA6TN6-9_",
    "bnba3eqCIwM5"
   ],
   "provenance": []
  },
  "kaggle": {
   "accelerator": "gpu",
   "dataSources": [],
   "dockerImageVersionId": 30787,
   "isGpuEnabled": true,
   "isInternetEnabled": true,
   "language": "python",
   "sourceType": "notebook"
  },
  "kernelspec": {
   "display_name": "Python 3",
   "language": "python",
   "name": "python3"
  },
  "language_info": {
   "codemirror_mode": {
    "name": "ipython",
    "version": 3
   },
   "file_extension": ".py",
   "mimetype": "text/x-python",
   "name": "python",
   "nbconvert_exporter": "python",
   "pygments_lexer": "ipython3",
   "version": "3.11.9"
  },
  "papermill": {
   "default_parameters": {},
   "duration": 1371.782016,
   "end_time": "2024-11-04T20:43:03.242879",
   "environment_variables": {},
   "exception": null,
   "input_path": "__notebook__.ipynb",
   "output_path": "__notebook__.ipynb",
   "parameters": {},
   "start_time": "2024-11-04T20:20:11.460863",
   "version": "2.6.0"
  }
 },
 "nbformat": 4,
 "nbformat_minor": 5
}
