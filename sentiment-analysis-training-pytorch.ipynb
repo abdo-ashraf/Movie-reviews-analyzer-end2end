{
 "cells": [
  {
   "cell_type": "markdown",
   "id": "f51e1382",
   "metadata": {
    "id": "q2h6hss15F4x",
    "papermill": {
     "duration": 0.014208,
     "end_time": "2024-11-04T22:56:59.859925",
     "exception": false,
     "start_time": "2024-11-04T22:56:59.845717",
     "status": "completed"
    },
    "tags": []
   },
   "source": [
    "## `Problem Statement`\n",
    "\n",
    "*   IMDb Movie Reviews is many to one problem.\n",
    "*   Text Sentiment Analysis with RNN.\n",
    "*   pre-trained Glove Embeddings.\n",
    "\n",
    "\n"
   ]
  },
  {
   "cell_type": "markdown",
   "id": "263eb696",
   "metadata": {
    "id": "Gco9PHvP6Gcf",
    "papermill": {
     "duration": 0.012869,
     "end_time": "2024-11-04T22:56:59.887090",
     "exception": false,
     "start_time": "2024-11-04T22:56:59.874221",
     "status": "completed"
    },
    "tags": []
   },
   "source": [
    "## `IMPORTS`"
   ]
  },
  {
   "cell_type": "code",
   "execution_count": 1,
   "id": "a9171f08",
   "metadata": {
    "execution": {
     "iopub.execute_input": "2024-11-04T22:56:59.914942Z",
     "iopub.status.busy": "2024-11-04T22:56:59.914516Z",
     "iopub.status.idle": "2024-11-04T22:57:22.688327Z",
     "shell.execute_reply": "2024-11-04T22:57:22.687205Z"
    },
    "papermill": {
     "duration": 22.790646,
     "end_time": "2024-11-04T22:57:22.691047",
     "exception": false,
     "start_time": "2024-11-04T22:56:59.900401",
     "status": "completed"
    },
    "tags": []
   },
   "outputs": [
    {
     "name": "stdout",
     "output_type": "stream",
     "text": [
      "Collecting en-core-web-sm==3.7.1\r\n",
      "  Downloading https://github.com/explosion/spacy-models/releases/download/en_core_web_sm-3.7.1/en_core_web_sm-3.7.1-py3-none-any.whl (12.8 MB)\r\n",
      "\u001b[2K     \u001b[90m━━━━━━━━━━━━━━━━━━━━━━━━━━━━━━━━━━━━━━━━\u001b[0m \u001b[32m12.8/12.8 MB\u001b[0m \u001b[31m80.4 MB/s\u001b[0m eta \u001b[36m0:00:00\u001b[0m\r\n",
      "\u001b[?25hRequirement already satisfied: spacy<3.8.0,>=3.7.2 in /opt/conda/lib/python3.10/site-packages (from en-core-web-sm==3.7.1) (3.7.6)\r\n",
      "Requirement already satisfied: spacy-legacy<3.1.0,>=3.0.11 in /opt/conda/lib/python3.10/site-packages (from spacy<3.8.0,>=3.7.2->en-core-web-sm==3.7.1) (3.0.12)\r\n",
      "Requirement already satisfied: spacy-loggers<2.0.0,>=1.0.0 in /opt/conda/lib/python3.10/site-packages (from spacy<3.8.0,>=3.7.2->en-core-web-sm==3.7.1) (1.0.5)\r\n",
      "Requirement already satisfied: murmurhash<1.1.0,>=0.28.0 in /opt/conda/lib/python3.10/site-packages (from spacy<3.8.0,>=3.7.2->en-core-web-sm==3.7.1) (1.0.10)\r\n",
      "Requirement already satisfied: cymem<2.1.0,>=2.0.2 in /opt/conda/lib/python3.10/site-packages (from spacy<3.8.0,>=3.7.2->en-core-web-sm==3.7.1) (2.0.8)\r\n",
      "Requirement already satisfied: preshed<3.1.0,>=3.0.2 in /opt/conda/lib/python3.10/site-packages (from spacy<3.8.0,>=3.7.2->en-core-web-sm==3.7.1) (3.0.9)\r\n",
      "Requirement already satisfied: thinc<8.3.0,>=8.2.2 in /opt/conda/lib/python3.10/site-packages (from spacy<3.8.0,>=3.7.2->en-core-web-sm==3.7.1) (8.2.5)\r\n",
      "Requirement already satisfied: wasabi<1.2.0,>=0.9.1 in /opt/conda/lib/python3.10/site-packages (from spacy<3.8.0,>=3.7.2->en-core-web-sm==3.7.1) (1.1.2)\r\n",
      "Requirement already satisfied: srsly<3.0.0,>=2.4.3 in /opt/conda/lib/python3.10/site-packages (from spacy<3.8.0,>=3.7.2->en-core-web-sm==3.7.1) (2.4.8)\r\n",
      "Requirement already satisfied: catalogue<2.1.0,>=2.0.6 in /opt/conda/lib/python3.10/site-packages (from spacy<3.8.0,>=3.7.2->en-core-web-sm==3.7.1) (2.0.10)\r\n",
      "Requirement already satisfied: weasel<0.5.0,>=0.1.0 in /opt/conda/lib/python3.10/site-packages (from spacy<3.8.0,>=3.7.2->en-core-web-sm==3.7.1) (0.4.1)\r\n",
      "Requirement already satisfied: typer<1.0.0,>=0.3.0 in /opt/conda/lib/python3.10/site-packages (from spacy<3.8.0,>=3.7.2->en-core-web-sm==3.7.1) (0.12.3)\r\n",
      "Requirement already satisfied: tqdm<5.0.0,>=4.38.0 in /opt/conda/lib/python3.10/site-packages (from spacy<3.8.0,>=3.7.2->en-core-web-sm==3.7.1) (4.66.4)\r\n",
      "Requirement already satisfied: requests<3.0.0,>=2.13.0 in /opt/conda/lib/python3.10/site-packages (from spacy<3.8.0,>=3.7.2->en-core-web-sm==3.7.1) (2.32.3)\r\n",
      "Requirement already satisfied: pydantic!=1.8,!=1.8.1,<3.0.0,>=1.7.4 in /opt/conda/lib/python3.10/site-packages (from spacy<3.8.0,>=3.7.2->en-core-web-sm==3.7.1) (2.9.2)\r\n",
      "Requirement already satisfied: jinja2 in /opt/conda/lib/python3.10/site-packages (from spacy<3.8.0,>=3.7.2->en-core-web-sm==3.7.1) (3.1.4)\r\n",
      "Requirement already satisfied: setuptools in /opt/conda/lib/python3.10/site-packages (from spacy<3.8.0,>=3.7.2->en-core-web-sm==3.7.1) (70.0.0)\r\n",
      "Requirement already satisfied: packaging>=20.0 in /opt/conda/lib/python3.10/site-packages (from spacy<3.8.0,>=3.7.2->en-core-web-sm==3.7.1) (21.3)\r\n",
      "Requirement already satisfied: langcodes<4.0.0,>=3.2.0 in /opt/conda/lib/python3.10/site-packages (from spacy<3.8.0,>=3.7.2->en-core-web-sm==3.7.1) (3.4.1)\r\n",
      "Requirement already satisfied: numpy>=1.19.0 in /opt/conda/lib/python3.10/site-packages (from spacy<3.8.0,>=3.7.2->en-core-web-sm==3.7.1) (1.26.4)\r\n",
      "Requirement already satisfied: language-data>=1.2 in /opt/conda/lib/python3.10/site-packages (from langcodes<4.0.0,>=3.2.0->spacy<3.8.0,>=3.7.2->en-core-web-sm==3.7.1) (1.2.0)\r\n",
      "Requirement already satisfied: pyparsing!=3.0.5,>=2.0.2 in /opt/conda/lib/python3.10/site-packages (from packaging>=20.0->spacy<3.8.0,>=3.7.2->en-core-web-sm==3.7.1) (3.1.2)\r\n",
      "Requirement already satisfied: annotated-types>=0.6.0 in /opt/conda/lib/python3.10/site-packages (from pydantic!=1.8,!=1.8.1,<3.0.0,>=1.7.4->spacy<3.8.0,>=3.7.2->en-core-web-sm==3.7.1) (0.7.0)\r\n",
      "Requirement already satisfied: pydantic-core==2.23.4 in /opt/conda/lib/python3.10/site-packages (from pydantic!=1.8,!=1.8.1,<3.0.0,>=1.7.4->spacy<3.8.0,>=3.7.2->en-core-web-sm==3.7.1) (2.23.4)\r\n",
      "Requirement already satisfied: typing-extensions>=4.6.1 in /opt/conda/lib/python3.10/site-packages (from pydantic!=1.8,!=1.8.1,<3.0.0,>=1.7.4->spacy<3.8.0,>=3.7.2->en-core-web-sm==3.7.1) (4.12.2)\r\n",
      "Requirement already satisfied: charset-normalizer<4,>=2 in /opt/conda/lib/python3.10/site-packages (from requests<3.0.0,>=2.13.0->spacy<3.8.0,>=3.7.2->en-core-web-sm==3.7.1) (3.3.2)\r\n",
      "Requirement already satisfied: idna<4,>=2.5 in /opt/conda/lib/python3.10/site-packages (from requests<3.0.0,>=2.13.0->spacy<3.8.0,>=3.7.2->en-core-web-sm==3.7.1) (3.7)\r\n",
      "Requirement already satisfied: urllib3<3,>=1.21.1 in /opt/conda/lib/python3.10/site-packages (from requests<3.0.0,>=2.13.0->spacy<3.8.0,>=3.7.2->en-core-web-sm==3.7.1) (1.26.18)\r\n",
      "Requirement already satisfied: certifi>=2017.4.17 in /opt/conda/lib/python3.10/site-packages (from requests<3.0.0,>=2.13.0->spacy<3.8.0,>=3.7.2->en-core-web-sm==3.7.1) (2024.8.30)\r\n",
      "Requirement already satisfied: blis<0.8.0,>=0.7.8 in /opt/conda/lib/python3.10/site-packages (from thinc<8.3.0,>=8.2.2->spacy<3.8.0,>=3.7.2->en-core-web-sm==3.7.1) (0.7.10)\r\n",
      "Requirement already satisfied: confection<1.0.0,>=0.0.1 in /opt/conda/lib/python3.10/site-packages (from thinc<8.3.0,>=8.2.2->spacy<3.8.0,>=3.7.2->en-core-web-sm==3.7.1) (0.1.4)\r\n",
      "Requirement already satisfied: click>=8.0.0 in /opt/conda/lib/python3.10/site-packages (from typer<1.0.0,>=0.3.0->spacy<3.8.0,>=3.7.2->en-core-web-sm==3.7.1) (8.1.7)\r\n",
      "Requirement already satisfied: shellingham>=1.3.0 in /opt/conda/lib/python3.10/site-packages (from typer<1.0.0,>=0.3.0->spacy<3.8.0,>=3.7.2->en-core-web-sm==3.7.1) (1.5.4)\r\n",
      "Requirement already satisfied: rich>=10.11.0 in /opt/conda/lib/python3.10/site-packages (from typer<1.0.0,>=0.3.0->spacy<3.8.0,>=3.7.2->en-core-web-sm==3.7.1) (13.7.1)\r\n",
      "Requirement already satisfied: cloudpathlib<1.0.0,>=0.7.0 in /opt/conda/lib/python3.10/site-packages (from weasel<0.5.0,>=0.1.0->spacy<3.8.0,>=3.7.2->en-core-web-sm==3.7.1) (0.19.0)\r\n",
      "Requirement already satisfied: smart-open<8.0.0,>=5.2.1 in /opt/conda/lib/python3.10/site-packages (from weasel<0.5.0,>=0.1.0->spacy<3.8.0,>=3.7.2->en-core-web-sm==3.7.1) (7.0.4)\r\n",
      "Requirement already satisfied: MarkupSafe>=2.0 in /opt/conda/lib/python3.10/site-packages (from jinja2->spacy<3.8.0,>=3.7.2->en-core-web-sm==3.7.1) (2.1.5)\r\n",
      "Requirement already satisfied: marisa-trie>=0.7.7 in /opt/conda/lib/python3.10/site-packages (from language-data>=1.2->langcodes<4.0.0,>=3.2.0->spacy<3.8.0,>=3.7.2->en-core-web-sm==3.7.1) (1.1.0)\r\n",
      "Requirement already satisfied: markdown-it-py>=2.2.0 in /opt/conda/lib/python3.10/site-packages (from rich>=10.11.0->typer<1.0.0,>=0.3.0->spacy<3.8.0,>=3.7.2->en-core-web-sm==3.7.1) (3.0.0)\r\n",
      "Requirement already satisfied: pygments<3.0.0,>=2.13.0 in /opt/conda/lib/python3.10/site-packages (from rich>=10.11.0->typer<1.0.0,>=0.3.0->spacy<3.8.0,>=3.7.2->en-core-web-sm==3.7.1) (2.18.0)\r\n",
      "Requirement already satisfied: wrapt in /opt/conda/lib/python3.10/site-packages (from smart-open<8.0.0,>=5.2.1->weasel<0.5.0,>=0.1.0->spacy<3.8.0,>=3.7.2->en-core-web-sm==3.7.1) (1.16.0)\r\n",
      "Requirement already satisfied: mdurl~=0.1 in /opt/conda/lib/python3.10/site-packages (from markdown-it-py>=2.2.0->rich>=10.11.0->typer<1.0.0,>=0.3.0->spacy<3.8.0,>=3.7.2->en-core-web-sm==3.7.1) (0.1.2)\r\n",
      "\u001b[38;5;2m✔ Download and installation successful\u001b[0m\r\n",
      "You can now load the package via spacy.load('en_core_web_sm')\r\n"
     ]
    }
   ],
   "source": [
    "!python -m spacy download en_core_web_sm"
   ]
  },
  {
   "cell_type": "code",
   "execution_count": 2,
   "id": "e1851fea",
   "metadata": {
    "execution": {
     "iopub.execute_input": "2024-11-04T22:57:22.724045Z",
     "iopub.status.busy": "2024-11-04T22:57:22.723647Z",
     "iopub.status.idle": "2024-11-04T22:57:29.629085Z",
     "shell.execute_reply": "2024-11-04T22:57:29.628127Z"
    },
    "id": "pldHkOQC5FGl",
    "papermill": {
     "duration": 6.924696,
     "end_time": "2024-11-04T22:57:29.631586",
     "exception": false,
     "start_time": "2024-11-04T22:57:22.706890",
     "status": "completed"
    },
    "tags": []
   },
   "outputs": [],
   "source": [
    "import numpy as np\n",
    "import pandas as pd\n",
    "import seaborn as sns\n",
    "import matplotlib.pyplot as plt\n",
    "import re\n",
    "import nltk\n",
    "from nltk.corpus import  stopwords\n",
    "from nltk.stem.porter import PorterStemmer\n",
    "from sklearn.model_selection import train_test_split\n",
    "from zipfile import ZipFile\n",
    "import torch\n",
    "from torch import nn\n",
    "from torch.nn import functional as F\n",
    "from torch.utils.data import DataLoader, Dataset\n",
    "import spacy\n",
    "nltk.download('stopwords', quiet=True)\n",
    "from typing import List, Union\n",
    "from collections import Counter"
   ]
  },
  {
   "cell_type": "code",
   "execution_count": 3,
   "id": "d41f9ea8",
   "metadata": {
    "execution": {
     "iopub.execute_input": "2024-11-04T22:57:29.661974Z",
     "iopub.status.busy": "2024-11-04T22:57:29.661153Z",
     "iopub.status.idle": "2024-11-04T22:57:29.665843Z",
     "shell.execute_reply": "2024-11-04T22:57:29.664956Z"
    },
    "id": "uQ7-wqG-Y942",
    "papermill": {
     "duration": 0.022043,
     "end_time": "2024-11-04T22:57:29.667933",
     "exception": false,
     "start_time": "2024-11-04T22:57:29.645890",
     "status": "completed"
    },
    "tags": []
   },
   "outputs": [],
   "source": [
    "isKaggle = True\n",
    "base_dir = '/kaggle/working' if isKaggle else '/content'"
   ]
  },
  {
   "cell_type": "code",
   "execution_count": 4,
   "id": "3a32408e",
   "metadata": {
    "execution": {
     "iopub.execute_input": "2024-11-04T22:57:29.698799Z",
     "iopub.status.busy": "2024-11-04T22:57:29.698426Z",
     "iopub.status.idle": "2024-11-04T22:57:29.704037Z",
     "shell.execute_reply": "2024-11-04T22:57:29.703057Z"
    },
    "id": "_-hQUmnWJhM2",
    "papermill": {
     "duration": 0.023292,
     "end_time": "2024-11-04T22:57:29.706127",
     "exception": false,
     "start_time": "2024-11-04T22:57:29.682835",
     "status": "completed"
    },
    "tags": []
   },
   "outputs": [],
   "source": [
    "lr = 1e-4\n",
    "epochs = 15\n",
    "valid_test_size = 0.2\n",
    "maxlen = 100 # maximum sequence length\n",
    "embd_features = 100 # length of embedding vectors for each word (input_size)\n",
    "batch_size = 64\n",
    "max_freq = 5\n",
    "lstm_hidden_size = 128 # The number of features in the hidden state\n",
    "lstm_layers = 3 # Number of stacked recurrent layers\n",
    "linear_hidden_size = 128 # Number of units for linear layer"
   ]
  },
  {
   "cell_type": "code",
   "execution_count": 5,
   "id": "cd1e7076",
   "metadata": {
    "execution": {
     "iopub.execute_input": "2024-11-04T22:57:29.736806Z",
     "iopub.status.busy": "2024-11-04T22:57:29.736481Z",
     "iopub.status.idle": "2024-11-04T22:57:29.741404Z",
     "shell.execute_reply": "2024-11-04T22:57:29.740423Z"
    },
    "id": "-ATol0VX1kMY",
    "papermill": {
     "duration": 0.022475,
     "end_time": "2024-11-04T22:57:29.743662",
     "exception": false,
     "start_time": "2024-11-04T22:57:29.721187",
     "status": "completed"
    },
    "tags": []
   },
   "outputs": [],
   "source": [
    "seed = 37\n",
    "g = torch.Generator().manual_seed(seed)\n",
    "device = 'cuda' if torch.cuda.is_available() else 'cpu'"
   ]
  },
  {
   "cell_type": "markdown",
   "id": "74241ce9",
   "metadata": {
    "id": "TNCEA6TN6-9_",
    "papermill": {
     "duration": 0.014583,
     "end_time": "2024-11-04T22:57:29.773186",
     "exception": false,
     "start_time": "2024-11-04T22:57:29.758603",
     "status": "completed"
    },
    "tags": []
   },
   "source": [
    "## `Get and visualize the Dataset`"
   ]
  },
  {
   "cell_type": "code",
   "execution_count": 6,
   "id": "11707df4",
   "metadata": {
    "execution": {
     "iopub.execute_input": "2024-11-04T22:57:29.804769Z",
     "iopub.status.busy": "2024-11-04T22:57:29.804423Z",
     "iopub.status.idle": "2024-11-04T22:57:42.718759Z",
     "shell.execute_reply": "2024-11-04T22:57:42.717456Z"
    },
    "id": "UGqk5myf7DI3",
    "outputId": "9d7b599b-298d-4010-905f-127b1f26e66a",
    "papermill": {
     "duration": 12.933374,
     "end_time": "2024-11-04T22:57:42.721546",
     "exception": false,
     "start_time": "2024-11-04T22:57:29.788172",
     "status": "completed"
    },
    "tags": []
   },
   "outputs": [
    {
     "name": "stdout",
     "output_type": "stream",
     "text": [
      "--2024-11-04 22:57:30--  https://drive.google.com/uc?id=1He6pot7hsWfSURS0Kh-MlmDyQqfRUUdd\r\n",
      "Resolving drive.google.com (drive.google.com)... 173.194.216.100, 173.194.216.138, 173.194.216.139, ...\r\n",
      "Connecting to drive.google.com (drive.google.com)|173.194.216.100|:443... connected.\r\n",
      "HTTP request sent, awaiting response... 303 See Other\r\n",
      "Location: https://drive.usercontent.google.com/download?id=1He6pot7hsWfSURS0Kh-MlmDyQqfRUUdd [following]\r\n",
      "--2024-11-04 22:57:30--  https://drive.usercontent.google.com/download?id=1He6pot7hsWfSURS0Kh-MlmDyQqfRUUdd\r\n",
      "Resolving drive.usercontent.google.com (drive.usercontent.google.com)... 74.125.134.132, 2607:f8b0:400c:c00::84\r\n",
      "Connecting to drive.usercontent.google.com (drive.usercontent.google.com)|74.125.134.132|:443... connected.\r\n",
      "HTTP request sent, awaiting response... 200 OK\r\n",
      "Length: 66212309 (63M) [application/octet-stream]\r\n",
      "Saving to: './a1_IMDB_Dataset.csv'\r\n",
      "\r\n",
      "./a1_IMDB_Dataset.c 100%[===================>]  63.14M  76.3MB/s    in 0.8s    \r\n",
      "\r\n",
      "2024-11-04 22:57:42 (76.3 MB/s) - './a1_IMDB_Dataset.csv' saved [66212309/66212309]\r\n",
      "\r\n"
     ]
    }
   ],
   "source": [
    "!wget -O ./a1_IMDB_Dataset.csv https://drive.google.com/uc?id=1He6pot7hsWfSURS0Kh-MlmDyQqfRUUdd"
   ]
  },
  {
   "cell_type": "code",
   "execution_count": 7,
   "id": "b4ff5393",
   "metadata": {
    "execution": {
     "iopub.execute_input": "2024-11-04T22:57:42.755265Z",
     "iopub.status.busy": "2024-11-04T22:57:42.754785Z",
     "iopub.status.idle": "2024-11-04T22:57:43.488178Z",
     "shell.execute_reply": "2024-11-04T22:57:43.486884Z"
    },
    "id": "pe2suxl57N6V",
    "outputId": "cf91828b-9a04-4ba0-b2f2-50ca7365d65d",
    "papermill": {
     "duration": 0.75369,
     "end_time": "2024-11-04T22:57:43.490900",
     "exception": false,
     "start_time": "2024-11-04T22:57:42.737210",
     "status": "completed"
    },
    "tags": []
   },
   "outputs": [
    {
     "name": "stdout",
     "output_type": "stream",
     "text": [
      "<class 'pandas.core.frame.DataFrame'>\n",
      "RangeIndex: 50000 entries, 0 to 49999\n",
      "Data columns (total 2 columns):\n",
      " #   Column     Non-Null Count  Dtype \n",
      "---  ------     --------------  ----- \n",
      " 0   review     50000 non-null  object\n",
      " 1   sentiment  50000 non-null  object\n",
      "dtypes: object(2)\n",
      "memory usage: 781.4+ KB\n",
      "None\n"
     ]
    }
   ],
   "source": [
    "# Little bit statistics\n",
    "df_reviews = pd.read_csv(f'{base_dir}/a1_IMDB_Dataset.csv')\n",
    "print(df_reviews.info())"
   ]
  },
  {
   "cell_type": "markdown",
   "id": "7d925b7c",
   "metadata": {
    "id": "s-Q2PB0m8FOD",
    "papermill": {
     "duration": 0.014928,
     "end_time": "2024-11-04T22:57:43.522863",
     "exception": false,
     "start_time": "2024-11-04T22:57:43.507935",
     "status": "completed"
    },
    "tags": []
   },
   "source": [
    "- Dataset does not have missing values, so no need for Data cleaning step"
   ]
  },
  {
   "cell_type": "code",
   "execution_count": 8,
   "id": "bf7fe676",
   "metadata": {
    "execution": {
     "iopub.execute_input": "2024-11-04T22:57:43.554140Z",
     "iopub.status.busy": "2024-11-04T22:57:43.553751Z",
     "iopub.status.idle": "2024-11-04T22:57:43.563527Z",
     "shell.execute_reply": "2024-11-04T22:57:43.562428Z"
    },
    "id": "zIJ_RiDu7_lr",
    "outputId": "24fde792-d20a-43ba-fbda-ec153c7b987e",
    "papermill": {
     "duration": 0.028487,
     "end_time": "2024-11-04T22:57:43.565899",
     "exception": false,
     "start_time": "2024-11-04T22:57:43.537412",
     "status": "completed"
    },
    "tags": []
   },
   "outputs": [
    {
     "name": "stdout",
     "output_type": "stream",
     "text": [
      "                                              review sentiment\n",
      "0  One of the other reviewers has mentioned that ...  positive\n",
      "1  A wonderful little production. <br /><br />The...  positive\n",
      "2  I thought this was a wonderful way to spend ti...  positive\n",
      "3  Basically there's a family where a little boy ...  negative\n",
      "4  Petter Mattei's \"Love in the Time of Money\" is...  positive\n"
     ]
    }
   ],
   "source": [
    "# Print first 5 rows\n",
    "print(df_reviews.head(5))"
   ]
  },
  {
   "cell_type": "code",
   "execution_count": 9,
   "id": "48a685c1",
   "metadata": {
    "execution": {
     "iopub.execute_input": "2024-11-04T22:57:43.598587Z",
     "iopub.status.busy": "2024-11-04T22:57:43.597976Z",
     "iopub.status.idle": "2024-11-04T22:57:44.038319Z",
     "shell.execute_reply": "2024-11-04T22:57:44.037295Z"
    },
    "id": "fIyerlo9876-",
    "outputId": "fbfd091f-4b58-4ac3-87d9-1c8c74fd12f3",
    "papermill": {
     "duration": 0.459055,
     "end_time": "2024-11-04T22:57:44.040719",
     "exception": false,
     "start_time": "2024-11-04T22:57:43.581664",
     "status": "completed"
    },
    "tags": []
   },
   "outputs": [
    {
     "data": {
      "image/png": "[encoded data removed]",
      "text/plain": [
       "<Figure size 400x300 with 1 Axes>"
      ]
     },
     "metadata": {},
     "output_type": "display_data"
    }
   ],
   "source": [
    "# Visualizing of positive/negative sentiments in dataset\n",
    "plt.figure(figsize=(4,3))\n",
    "sns.countplot(x='sentiment', data=df_reviews, hue='sentiment');"
   ]
  },
  {
   "cell_type": "code",
   "execution_count": 10,
   "id": "2f95efc7",
   "metadata": {
    "execution": {
     "iopub.execute_input": "2024-11-04T22:57:44.074345Z",
     "iopub.status.busy": "2024-11-04T22:57:44.073503Z",
     "iopub.status.idle": "2024-11-04T22:57:44.080214Z",
     "shell.execute_reply": "2024-11-04T22:57:44.079271Z"
    },
    "id": "YvqmdAPEFFlo",
    "outputId": "f8ebcd8c-1f5b-4c43-cac8-ac5389f49663",
    "papermill": {
     "duration": 0.026045,
     "end_time": "2024-11-04T22:57:44.082741",
     "exception": false,
     "start_time": "2024-11-04T22:57:44.056696",
     "status": "completed"
    },
    "tags": []
   },
   "outputs": [
    {
     "data": {
      "text/plain": [
       "\"One of the other reviewers has mentioned that after watching just 1 Oz episode you'll be hooked. They are right, as this is exactly what happened with me.<br /><br />The first thing that struck me about Oz was its brutality and unflinching scenes of violence, which set in right from the word GO. Trust me, this is not a show for the faint hearted or timid. This show pulls no punches with regards to drugs, sex or violence. Its is hardcore, in the classic use of the word.<br /><br />It is called OZ as that is the nickname given to the Oswald Maximum Security State Penitentary. It focuses mainly on Emerald City, an experimental section of the prison where all the cells have glass fronts and face inwards, so privacy is not high on the agenda. Em City is home to many..Aryans, Muslims, gangstas, Latinos, Christians, Italians, Irish and more....so scuffles, death stares, dodgy dealings and shady agreements are never far away.<br /><br />I would say the main appeal of the show is due to the fact that it goes where other shows wouldn't dare. Forget pretty pictures painted for mainstream audiences, forget charm, forget romance...OZ doesn't mess around. The first episode I ever saw struck me as so nasty it was surreal, I couldn't say I was ready for it, but as I watched more, I developed a taste for Oz, and got accustomed to the high levels of graphic violence. Not just violence, but injustice (crooked guards who'll be sold out for a nickel, inmates who'll kill on order and get away with it, well mannered, middle class inmates being turned into prison bitches due to their lack of street skills or prison experience) Watching Oz, you may become comfortable with what is uncomfortable viewing....thats if you can get in touch with your darker side.\""
      ]
     },
     "execution_count": 10,
     "metadata": {},
     "output_type": "execute_result"
    }
   ],
   "source": [
    "df_reviews['review'].iloc[0]"
   ]
  },
  {
   "cell_type": "markdown",
   "id": "28589553",
   "metadata": {
    "id": "FvsvAVPYzmc0",
    "papermill": {
     "duration": 0.015688,
     "end_time": "2024-11-04T22:57:44.114266",
     "exception": false,
     "start_time": "2024-11-04T22:57:44.098578",
     "status": "completed"
    },
    "tags": []
   },
   "source": [
    "- We will need to deals with **punctuations**, brackets, HTML tags and numbers"
   ]
  },
  {
   "cell_type": "markdown",
   "id": "b8c7ad25",
   "metadata": {
    "id": "bnba3eqCIwM5",
    "papermill": {
     "duration": 0.015545,
     "end_time": "2024-11-04T22:57:44.145602",
     "exception": false,
     "start_time": "2024-11-04T22:57:44.130057",
     "status": "completed"
    },
    "tags": []
   },
   "source": [
    "## `STEP: DATA SPLIT`"
   ]
  },
  {
   "cell_type": "code",
   "execution_count": 11,
   "id": "14a9a4f8",
   "metadata": {
    "execution": {
     "iopub.execute_input": "2024-11-04T22:57:44.179852Z",
     "iopub.status.busy": "2024-11-04T22:57:44.178966Z",
     "iopub.status.idle": "2024-11-04T22:57:44.198319Z",
     "shell.execute_reply": "2024-11-04T22:57:44.197084Z"
    },
    "id": "kGTrPHuFIsol",
    "outputId": "7218d6b0-0d49-4c2c-93b4-a08dcf6ceb43",
    "papermill": {
     "duration": 0.039307,
     "end_time": "2024-11-04T22:57:44.200775",
     "exception": false,
     "start_time": "2024-11-04T22:57:44.161468",
     "status": "completed"
    },
    "tags": []
   },
   "outputs": [
    {
     "name": "stdout",
     "output_type": "stream",
     "text": [
      "(40000, 2), (5000, 2), (5000, 2)\n"
     ]
    }
   ],
   "source": [
    "df_reviews_train, df_reviews_test = train_test_split(df_reviews, test_size=valid_test_size, random_state=seed)\n",
    "df_reviews_valid, df_reviews_test = train_test_split(df_reviews_test, test_size=0.5, random_state=seed)\n",
    "\n",
    "print(df_reviews_train.shape, df_reviews_test.shape, df_reviews_valid.shape, sep=', ')"
   ]
  },
  {
   "cell_type": "markdown",
   "id": "504ade73",
   "metadata": {
    "id": "eQHX_bvqAeH3",
    "papermill": {
     "duration": 0.016243,
     "end_time": "2024-11-04T22:57:44.234227",
     "exception": false,
     "start_time": "2024-11-04T22:57:44.217984",
     "status": "completed"
    },
    "tags": []
   },
   "source": [
    "## `STEP: DATA LOADING AND PRE-PROCESSING`"
   ]
  },
  {
   "cell_type": "code",
   "execution_count": 12,
   "id": "63a3a949",
   "metadata": {
    "execution": {
     "iopub.execute_input": "2024-11-04T22:57:44.269255Z",
     "iopub.status.busy": "2024-11-04T22:57:44.268371Z",
     "iopub.status.idle": "2024-11-04T22:57:44.272906Z",
     "shell.execute_reply": "2024-11-04T22:57:44.271963Z"
    },
    "id": "nFA_omi226wW",
    "papermill": {
     "duration": 0.023903,
     "end_time": "2024-11-04T22:57:44.274914",
     "exception": false,
     "start_time": "2024-11-04T22:57:44.251011",
     "status": "completed"
    },
    "tags": []
   },
   "outputs": [],
   "source": [
    "## raw_text ->     Tokenizer     ->       Vocabulary     ->   CustomDataset\n",
    "##              (string_tokens)       (numerical_tokens)     (Ready_for_model)"
   ]
  },
  {
   "cell_type": "code",
   "execution_count": 13,
   "id": "2a54ae30",
   "metadata": {
    "execution": {
     "iopub.execute_input": "2024-11-04T22:57:44.309424Z",
     "iopub.status.busy": "2024-11-04T22:57:44.308978Z",
     "iopub.status.idle": "2024-11-04T22:57:44.319062Z",
     "shell.execute_reply": "2024-11-04T22:57:44.317910Z"
    },
    "id": "RAcq36YQCweB",
    "jupyter": {
     "source_hidden": true
    },
    "papermill": {
     "duration": 0.030335,
     "end_time": "2024-11-04T22:57:44.321619",
     "exception": false,
     "start_time": "2024-11-04T22:57:44.291284",
     "status": "completed"
    },
    "tags": []
   },
   "outputs": [],
   "source": [
    "p='''\n",
    "## OR you can use spacy tonkenizer or whatever you want.\n",
    "class Tokenizer:\n",
    "    def __init__(self, stemmer=True, html_tags_regex=True, punctuations_regex=True, words_contains_numbers_regex=True,\n",
    "                 urls_regex=True, multi_space_regex=True, stopwords_regex=True):\n",
    "\n",
    "        # for stemming step\n",
    "        self.stemmer = PorterStemmer() if stemmer else None\n",
    "        # for html tags\n",
    "        self.html_tags_regex = re.compile(r'<[^>]+>') if html_tags_regex else None\n",
    "        # for punctuations\n",
    "        self.punctuations_regex = re.compile(r'[^a-z0-9\\s]+') if punctuations_regex else None\n",
    "        # for words that contains numbers like f4g\n",
    "        self.words_contains_numbers_regex = re.compile(r'\\w*\\d+\\w*') if words_contains_numbers_regex else None\n",
    "        # for urls and links\n",
    "        self.urls_regex = re.compile(r'https?://(?:www\\.)?\\S+|www\\.\\S+') if urls_regex else None\n",
    "        # for multiple spaces and newlines\n",
    "        self.multi_space_regex = re.compile(r'\\n+|\\s+') if multi_space_regex else None\n",
    "        # for stopwords\n",
    "        if stopwords_regex:\n",
    "            # Define a list of negative verbs to remove\n",
    "            negative_verbs = {'don', \"don't\", 'aren', \"aren't\", 'couldn', \"couldn't\", 'didn', \"didn't\", 'doesn', \"doesn't\", 'hadn', \"hadn't\", 'hasn',\n",
    "                              \"hasn't\", 'haven', \"haven't\", 'isn', \"isn't\", 'mightn', \"mightn't\", 'not', \"n't\", 'mustn', \"mustn't\", 'needn', \"needn't\",\n",
    "                              'shan', \"shan't\", 'shouldn', \"shouldn't\", 'wasn', \"wasn't\", 'weren', \"weren't\", 'won', \"won't\", 'wouldn', \"wouldn't\"}\n",
    "            # Remove negative verbs\n",
    "            self.filtered_stop_words = [word for word in stopwords.words('english') if word not in negative_verbs]\n",
    "            # self.stopwords_regex = re.compile(r'\\b(' + r'|'.join(filtered_stop_words) + r')\\b\\s*')\n",
    "        # else: self.stopwords_regex = None\n",
    "        else: self.filtered_stop_words = []\n",
    "\n",
    "    def sentence_tokenizing(self, input_text:str):\n",
    "\n",
    "        text = input_text.lower()\n",
    "\n",
    "        if self.html_tags_regex:\n",
    "            text = self.html_tags_regex.sub(' ', text)\n",
    "\n",
    "        if self.urls_regex:\n",
    "            text = self.urls_regex.sub(' ', text)\n",
    "\n",
    "        if self.punctuations_regex:\n",
    "            text = self.punctuations_regex.sub('', text)\n",
    "\n",
    "        if self.words_contains_numbers_regex:\n",
    "            text = self.words_contains_numbers_regex.sub(' ', text)\n",
    "\n",
    "        if self.multi_space_regex:\n",
    "            text = self.multi_space_regex.sub(' ', text)\n",
    "\n",
    "        text_tokens = text.split()\n",
    "\n",
    "        text_tokens = [self.stemmer.stem(word) for word in text_tokens] if self.stemmer else text_tokens\n",
    "\n",
    "        text_tokens = [token for token in text_tokens if token not in self.filtered_stop_words] if self.filtered_stop_words else text_tokens\n",
    "\n",
    "        return text_tokens\n",
    "\n",
    "\n",
    "    def __call__(self, input_text:str):\n",
    "        return self.sentence_tokenizing(input_text)\n",
    "\n",
    "\n",
    "    def word_tokenizing(self, input_word:str, stemming=True):\n",
    "\n",
    "        word = input_word.lower().replace(' ', '')\n",
    "\n",
    "        if self.html_tags_regex:\n",
    "            if self.html_tags_regex.search(word):\n",
    "                return ''\n",
    "\n",
    "        if self.urls_regex:\n",
    "            if self.urls_regex.search(word):\n",
    "                return ''\n",
    "\n",
    "        if self.punctuations_regex:\n",
    "            if self.punctuations_regex.search(word):\n",
    "                return ''\n",
    "\n",
    "        if self.punctuations_regex:\n",
    "            word = self.punctuations_regex.sub('', word)\n",
    "\n",
    "        if self.words_contains_numbers_regex:\n",
    "            if self.words_contains_numbers_regex.search(word):\n",
    "                return ''\n",
    "\n",
    "        if stemming:\n",
    "            if self.stemmer:\n",
    "                word = self.stemmer.stem(word)\n",
    "\n",
    "        if self.filtered_stop_words:\n",
    "            if word in self.filtered_stop_words:\n",
    "                return ''\n",
    "\n",
    "        return word\n",
    "        '''"
   ]
  },
  {
   "cell_type": "code",
   "execution_count": 14,
   "id": "a9ac1811",
   "metadata": {
    "execution": {
     "iopub.execute_input": "2024-11-04T22:57:44.357313Z",
     "iopub.status.busy": "2024-11-04T22:57:44.356239Z",
     "iopub.status.idle": "2024-11-04T22:57:44.362643Z",
     "shell.execute_reply": "2024-11-04T22:57:44.361594Z"
    },
    "papermill": {
     "duration": 0.026829,
     "end_time": "2024-11-04T22:57:44.364852",
     "exception": false,
     "start_time": "2024-11-04T22:57:44.338023",
     "status": "completed"
    },
    "tags": []
   },
   "outputs": [],
   "source": [
    "class spacy_tokenizer():\n",
    "    def __init__(self):\n",
    "        self.spacy_eng = spacy.load(\"en_core_web_sm\")\n",
    "\n",
    "    def __call__(self, text):\n",
    "        return [tok.text.lower() for tok in self.spacy_eng.tokenizer(text)]"
   ]
  },
  {
   "cell_type": "code",
   "execution_count": 15,
   "id": "d220ab9d",
   "metadata": {
    "execution": {
     "iopub.execute_input": "2024-11-04T22:57:44.399924Z",
     "iopub.status.busy": "2024-11-04T22:57:44.399516Z",
     "iopub.status.idle": "2024-11-04T22:57:44.414597Z",
     "shell.execute_reply": "2024-11-04T22:57:44.413626Z"
    },
    "id": "k-ykUWhKusyh",
    "papermill": {
     "duration": 0.03526,
     "end_time": "2024-11-04T22:57:44.416760",
     "exception": false,
     "start_time": "2024-11-04T22:57:44.381500",
     "status": "completed"
    },
    "tags": []
   },
   "outputs": [],
   "source": [
    "class Vocabulary:\n",
    "    def __init__(self, callable_tokenizer=None, max_freq=3, unk=True, sos=False, eos=False):\n",
    "\n",
    "        self.sos = sos\n",
    "        self.eos = eos\n",
    "        self.unk = unk\n",
    "        if callable_tokenizer:\n",
    "            self.callable_tokenizer = callable_tokenizer\n",
    "        else:\n",
    "            self.callable_tokenizer = spacy_tokenizer()\n",
    "\n",
    "        self.stoi = {\"<PAD>\": 0}\n",
    "        if self.unk:\n",
    "            self.stoi['<UNK>'] = len(self.stoi)\n",
    "        if self.sos:\n",
    "            self.stoi['<SOS>'] = len(self.stoi)\n",
    "        if self.eos:\n",
    "            self.stoi['<EOS>'] = len(self.stoi)\n",
    "        \n",
    "    def __len__(self):\n",
    "        return len(self.stoi)\n",
    "\n",
    "    def get_vocabulary(self):\n",
    "        return self.stoi\n",
    "\n",
    "    def add_token(self, token_name: str):\n",
    "        if token_name not in self.stoi:\n",
    "            self.stoi[token_name] = len(self.stoi)\n",
    "\n",
    "    def build_vocabulary(self, sentences_list):\n",
    "        if type(sentences_list[0]) != str:\n",
    "            ## ex: [['eating', 'apples'], ['eating', 'oranges']]\n",
    "            sentences_list = [' '.join(sen) for sen in sentences_list]\n",
    "\n",
    "        word_counts = Counter()\n",
    "        for sentence in sentences_list:\n",
    "            tokens = self.callable_tokenizer(sentence)\n",
    "            word_counts.update(tokens)\n",
    "\n",
    "        # Filter words with mox_freq or more occurrences\n",
    "        filtered_words = [word for word, count in word_counts.items() if count >= 3]\n",
    "        for word in filtered_words:\n",
    "            if word not in self.stoi:\n",
    "                self.stoi[word] = len(self.stoi)\n",
    "\n",
    "    def get_numerical_tokens(self, text: str):\n",
    "        tokens = self.callable_tokenizer(text)\n",
    "        # tokens.insert(0, '<SOS>') if self.sos else None\n",
    "        # tokens.append('<EOS>') if self.eos else None\n",
    "        unk_id = self.stoi.get('<UNK>', None)\n",
    "        return [self.stoi.get(word, unk_id) for word in tokens]\n",
    "\n",
    "    def __call__(self, text: str):\n",
    "        return self.get_numerical_tokens(text)\n",
    "\n",
    "    def tokens_to_text(self, tokens_list):\n",
    "        keys = list(self.stoi.keys())\n",
    "        values = list(self.stoi.values())\n",
    "\n",
    "        return ' '.join([keys[values.index(token)] for token in tokens_list])"
   ]
  },
  {
   "cell_type": "code",
   "execution_count": 16,
   "id": "ef9740a7",
   "metadata": {
    "execution": {
     "iopub.execute_input": "2024-11-04T22:57:44.450517Z",
     "iopub.status.busy": "2024-11-04T22:57:44.450148Z",
     "iopub.status.idle": "2024-11-04T22:57:44.459286Z",
     "shell.execute_reply": "2024-11-04T22:57:44.458297Z"
    },
    "id": "i8B7fMxK3n_Y",
    "papermill": {
     "duration": 0.02846,
     "end_time": "2024-11-04T22:57:44.461546",
     "exception": false,
     "start_time": "2024-11-04T22:57:44.433086",
     "status": "completed"
    },
    "tags": []
   },
   "outputs": [],
   "source": [
    "class Custom_Dataset(Dataset):\n",
    "\n",
    "    def __init__(self, sentences_list, labels_text, callable_final_vocabulary: Vocabulary, classes_dict: dict, maxlen):\n",
    "\n",
    "        super(Custom_Dataset, self).__init__()\n",
    "        self.raw_sentences = sentences_list\n",
    "        self.labels_text = labels_text\n",
    "        self.callable_final_vocabulary = callable_final_vocabulary\n",
    "        self.classes_dict = classes_dict\n",
    "        self.maxlen = maxlen\n",
    "\n",
    "    def __len__(self):\n",
    "        return len(self.raw_sentences)\n",
    "\n",
    "    def __getitem__(self, index):\n",
    "        text, label_text = self.raw_sentences[index], self.labels_text[index]\n",
    "\n",
    "        label = self.classes_dict[label_text]\n",
    "        num_tokens = self.callable_final_vocabulary(text)\n",
    "\n",
    "        ## You will need to set sos, eos for vocab first\n",
    "        num_tokens = [self.callable_final_vocabulary.get_vocabulary().get('<SOS>', None)] + num_tokens + [self.callable_final_vocabulary.get_vocabulary().get('<EOS>', None)]\n",
    "        num_tokens = [tk for tk in num_tokens if tk is not None]\n",
    "        num_tokens = num_tokens[:self.maxlen] if len(num_tokens)>self.maxlen else num_tokens\n",
    "        \n",
    "        return torch.tensor(num_tokens), torch.tensor(label).float()\n"
   ]
  },
  {
   "cell_type": "code",
   "execution_count": 17,
   "id": "018b9f01",
   "metadata": {
    "execution": {
     "iopub.execute_input": "2024-11-04T22:57:44.495196Z",
     "iopub.status.busy": "2024-11-04T22:57:44.494778Z",
     "iopub.status.idle": "2024-11-04T22:57:44.502314Z",
     "shell.execute_reply": "2024-11-04T22:57:44.501308Z"
    },
    "id": "fPRvoFI3k3Jk",
    "papermill": {
     "duration": 0.027216,
     "end_time": "2024-11-04T22:57:44.504551",
     "exception": false,
     "start_time": "2024-11-04T22:57:44.477335",
     "status": "completed"
    },
    "tags": []
   },
   "outputs": [],
   "source": [
    "class MYCollate():\n",
    "    def __init__(self, batch_first=True, pad_value=0):\n",
    "        self.pad_value = pad_value\n",
    "        self.batch_first = batch_first\n",
    "\n",
    "    def __call__(self, data):\n",
    "        stentences = [ex[0] for ex in data]\n",
    "        labels = torch.tensor([ex[1] for ex in data])\n",
    "\n",
    "        padded_stentences = nn.utils.rnn.pad_sequence(stentences, batch_first=self.batch_first,\n",
    "                                                      padding_value=self.pad_value)\n",
    "        return padded_stentences, labels\n",
    "\n",
    "# def get_dataloader(sentences_list, labels_list, callable_final_vocab:Vocabulary, classes_dict,\n",
    "#                    collate_batch_first, colate_padding_side,\n",
    "#                    batch_size, shuffle, num_workers, pin_memory):\n",
    "\n",
    "#     dataset = Custom_Dataset(sentences_list, labels_list, callable_final_vocab, classes_dict)\n",
    "\n",
    "#     pad_value = callable_final_vocab.get_vocabulary().get('<PAD>', 0)\n",
    "\n",
    "#     collate_fn = MYCollate(collate_batch_first, pad_value, colate_padding_side)\n",
    "\n",
    "#     loader = DataLoader(dataset, batch_size=batch_size, shuffle=shuffle, collate_fn=collate_fn,\n",
    "#                         num_workers=num_workers, pin_memory=pin_memory)\n",
    "\n",
    "#     return loader"
   ]
  },
  {
   "cell_type": "code",
   "execution_count": 18,
   "id": "8fc28f96",
   "metadata": {
    "execution": {
     "iopub.execute_input": "2024-11-04T22:57:44.536654Z",
     "iopub.status.busy": "2024-11-04T22:57:44.536368Z",
     "iopub.status.idle": "2024-11-04T22:57:46.048026Z",
     "shell.execute_reply": "2024-11-04T22:57:46.047077Z"
    },
    "papermill": {
     "duration": 1.530727,
     "end_time": "2024-11-04T22:57:46.050570",
     "exception": false,
     "start_time": "2024-11-04T22:57:44.519843",
     "status": "completed"
    },
    "tags": []
   },
   "outputs": [],
   "source": [
    "spacy_eng = spacy.load(\"en_core_web_sm\")\n",
    "\n",
    "def spacy_tokenizer_eng(text):\n",
    "    return [tok.text.lower() for tok in spacy_eng.tokenizer(text)]"
   ]
  },
  {
   "cell_type": "code",
   "execution_count": 19,
   "id": "eb600bf2",
   "metadata": {
    "execution": {
     "iopub.execute_input": "2024-11-04T22:57:46.085722Z",
     "iopub.status.busy": "2024-11-04T22:57:46.084840Z",
     "iopub.status.idle": "2024-11-04T22:58:44.446963Z",
     "shell.execute_reply": "2024-11-04T22:58:44.445918Z"
    },
    "id": "PCS6BnH06OC1",
    "outputId": "5c0a0f3c-9975-41c6-94de-b6e2c77bb884",
    "papermill": {
     "duration": 58.397958,
     "end_time": "2024-11-04T22:58:44.465357",
     "exception": false,
     "start_time": "2024-11-04T22:57:46.067399",
     "status": "completed"
    },
    "tags": []
   },
   "outputs": [
    {
     "name": "stdout",
     "output_type": "stream",
     "text": [
      "len(vocab) = 52463\n"
     ]
    }
   ],
   "source": [
    "# word_tokenizer = spacy_tokenizer_eng\n",
    "vocab = Vocabulary(max_freq=max_freq, unk=True, sos=False, eos=False)\n",
    "vocab.build_vocabulary(df_reviews_train['review'].values)\n",
    "\n",
    "print(f'{len(vocab) = }')"
   ]
  },
  {
   "cell_type": "code",
   "execution_count": 20,
   "id": "f4d90fc2",
   "metadata": {
    "execution": {
     "iopub.execute_input": "2024-11-04T22:58:44.499953Z",
     "iopub.status.busy": "2024-11-04T22:58:44.499566Z",
     "iopub.status.idle": "2024-11-04T22:58:44.507423Z",
     "shell.execute_reply": "2024-11-04T22:58:44.506253Z"
    },
    "id": "UUAtsGTuPP2L",
    "papermill": {
     "duration": 0.028055,
     "end_time": "2024-11-04T22:58:44.509651",
     "exception": false,
     "start_time": "2024-11-04T22:58:44.481596",
     "status": "completed"
    },
    "tags": []
   },
   "outputs": [],
   "source": [
    "classes_dict = {'negative': 0, 'positive': 1}\n",
    "train_ds = Custom_Dataset(df_reviews_train['review'].values, df_reviews_train['sentiment'].values,\n",
    "                          callable_final_vocabulary=vocab, classes_dict=classes_dict, maxlen=maxlen)\n",
    "\n",
    "valid_ds = Custom_Dataset(df_reviews_valid['review'].values, df_reviews_valid['sentiment'].values,\n",
    "                          callable_final_vocabulary=vocab, classes_dict=classes_dict, maxlen=maxlen)\n",
    "\n",
    "test_ds = Custom_Dataset(df_reviews_test['review'].values, df_reviews_test['sentiment'].values,\n",
    "                          callable_final_vocabulary=vocab, classes_dict=classes_dict, maxlen=maxlen)"
   ]
  },
  {
   "cell_type": "code",
   "execution_count": 21,
   "id": "f55db7a6",
   "metadata": {
    "execution": {
     "iopub.execute_input": "2024-11-04T22:58:44.546396Z",
     "iopub.status.busy": "2024-11-04T22:58:44.545544Z",
     "iopub.status.idle": "2024-11-04T22:58:44.639337Z",
     "shell.execute_reply": "2024-11-04T22:58:44.638240Z"
    },
    "id": "KMIME1CRZ7Im",
    "outputId": "f835eace-799e-40f6-c876-1436f99ee9ef",
    "papermill": {
     "duration": 0.114984,
     "end_time": "2024-11-04T22:58:44.641847",
     "exception": false,
     "start_time": "2024-11-04T22:58:44.526863",
     "status": "completed"
    },
    "tags": []
   },
   "outputs": [
    {
     "data": {
      "text/plain": [
       "(tensor([159, 185, 186, 156, 187,  35, 159,  38, 132, 188, 189, 190, 191, 192,\n",
       "         193,   8, 194,  35,   8, 195,  27,   4, 196, 157, 197,  35, 198, 199,\n",
       "         200, 201,  68, 202, 119, 117, 203, 204, 205, 206, 207, 208,   8, 209,\n",
       "         210,  21, 211, 212, 213, 214,  16,   8, 215,  35, 159, 216, 217,  15,\n",
       "         218, 219,  14,  21, 220, 221, 222, 223,  12, 224,  56, 159, 225,  35,\n",
       "         226, 227, 228,  27,  53, 229, 230, 231,  35, 232, 171, 114, 233, 234,\n",
       "         235,  15,  54,  44, 236, 148, 237,  77, 238,   1,  27,   8, 239, 240,\n",
       "          16, 241]),\n",
       " tensor(1.))"
      ]
     },
     "execution_count": 21,
     "metadata": {},
     "output_type": "execute_result"
    }
   ],
   "source": [
    "train_ds[2]"
   ]
  },
  {
   "cell_type": "code",
   "execution_count": 22,
   "id": "96280f4f",
   "metadata": {
    "execution": {
     "iopub.execute_input": "2024-11-04T22:58:44.677342Z",
     "iopub.status.busy": "2024-11-04T22:58:44.676510Z",
     "iopub.status.idle": "2024-11-04T22:58:46.259755Z",
     "shell.execute_reply": "2024-11-04T22:58:46.258470Z"
    },
    "id": "AZn9e3Ck6Nxw",
    "outputId": "a233bf0a-5455-4938-86dd-d6f9a8084d71",
    "papermill": {
     "duration": 1.60379,
     "end_time": "2024-11-04T22:58:46.262379",
     "exception": false,
     "start_time": "2024-11-04T22:58:44.658589",
     "status": "completed"
    },
    "tags": []
   },
   "outputs": [
    {
     "name": "stdout",
     "output_type": "stream",
     "text": [
      "torch.Size([64, 100])\n",
      "torch.Size([64])\n"
     ]
    }
   ],
   "source": [
    "mycollate = MYCollate(batch_first=True, pad_value=0)\n",
    "pin_memory = True if device == 'cuda' else False\n",
    "num_workers = 4 if isKaggle else 2\n",
    "\n",
    "train_loader = DataLoader(train_ds, batch_size=batch_size, shuffle=True,\n",
    "                          collate_fn=mycollate, num_workers=num_workers,\n",
    "                          generator=g, pin_memory=pin_memory)\n",
    "\n",
    "valid_loader = DataLoader(valid_ds, batch_size=batch_size, shuffle=False,\n",
    "                          collate_fn=mycollate, num_workers=num_workers,\n",
    "                          generator=g, pin_memory=pin_memory)\n",
    "\n",
    "test_loader = DataLoader(test_ds, batch_size=batch_size, shuffle=False,\n",
    "                         collate_fn=mycollate, num_workers=num_workers,\n",
    "                         generator=g, pin_memory=pin_memory)\n",
    "\n",
    "for x, y in train_loader:\n",
    "    print(x.shape)\n",
    "    print(y.shape)\n",
    "    break"
   ]
  },
  {
   "cell_type": "markdown",
   "id": "4308f024",
   "metadata": {
    "id": "YLxV3XsbhkDI",
    "papermill": {
     "duration": 0.01695,
     "end_time": "2024-11-04T22:58:46.296473",
     "exception": false,
     "start_time": "2024-11-04T22:58:46.279523",
     "status": "completed"
    },
    "tags": []
   },
   "source": [
    "Very useful late known INFO :)\n",
    "\n",
    "  - As we all know at feedforward layers number of input features must be the same for all data that will go throu the model. input shape (Batch, features)\n",
    "\n",
    "\n",
    "\n",
    "  - And for CNN layers all data that will go throu the model must have same channel length, but for each example in the batch must have same shapes(H,W). input shape (Batch,C,H,W)\n",
    "\n",
    "\n",
    "\n",
    "  - And for RNN layers data in one batch must have same sequence_length but batches can have different sequence_lengths. input shape (Batch, sequence_length, embedding_features)\n",
    "\n",
    "\n",
    "\n",
    "**The Difference between CNNs and RNNs is that when you pass image with different hight and width than that model was training on, you will get bad results or may be dims mismatched error (if not followed by global average pooling), but for RNNs things are different.**\n"
   ]
  },
  {
   "cell_type": "markdown",
   "id": "121b8b10",
   "metadata": {
    "id": "G1k-4v6q5cxN",
    "papermill": {
     "duration": 0.016784,
     "end_time": "2024-11-04T22:58:46.330230",
     "exception": false,
     "start_time": "2024-11-04T22:58:46.313446",
     "status": "completed"
    },
    "tags": []
   },
   "source": [
    "### Form Embedding matrix step"
   ]
  },
  {
   "cell_type": "code",
   "execution_count": 23,
   "id": "27034f1c",
   "metadata": {
    "execution": {
     "iopub.execute_input": "2024-11-04T22:58:46.367558Z",
     "iopub.status.busy": "2024-11-04T22:58:46.366477Z",
     "iopub.status.idle": "2024-11-04T23:01:29.951456Z",
     "shell.execute_reply": "2024-11-04T23:01:29.950189Z"
    },
    "id": "fzt2GsXxzJ6S",
    "papermill": {
     "duration": 163.606847,
     "end_time": "2024-11-04T23:01:29.954307",
     "exception": false,
     "start_time": "2024-11-04T22:58:46.347460",
     "status": "completed"
    },
    "tags": []
   },
   "outputs": [
    {
     "name": "stdout",
     "output_type": "stream",
     "text": [
      "--2024-11-04 22:58:47--  https://nlp.stanford.edu/data/glove.6B.zip\r\n",
      "Resolving nlp.stanford.edu (nlp.stanford.edu)... 171.64.67.140\r\n",
      "Connecting to nlp.stanford.edu (nlp.stanford.edu)|171.64.67.140|:443... connected.\r\n",
      "HTTP request sent, awaiting response... 301 Moved Permanently\r\n",
      "Location: https://downloads.cs.stanford.edu/nlp/data/glove.6B.zip [following]\r\n",
      "--2024-11-04 22:58:47--  https://downloads.cs.stanford.edu/nlp/data/glove.6B.zip\r\n",
      "Resolving downloads.cs.stanford.edu (downloads.cs.stanford.edu)... 171.64.64.22\r\n",
      "Connecting to downloads.cs.stanford.edu (downloads.cs.stanford.edu)|171.64.64.22|:443... connected.\r\n",
      "HTTP request sent, awaiting response... 200 OK\r\n",
      "Length: 862182613 (822M) [application/zip]\r\n",
      "Saving to: 'glove.6B.zip'\r\n",
      "\r\n",
      "glove.6B.zip        100%[===================>] 822.24M  5.02MB/s    in 2m 39s  \r\n",
      "\r\n",
      "2024-11-04 23:01:27 (5.16 MB/s) - 'glove.6B.zip' saved [862182613/862182613]\r\n",
      "\r\n"
     ]
    }
   ],
   "source": [
    "!wget https://nlp.stanford.edu/data/glove.6B.zip\n",
    "\n",
    "with ZipFile(f'{base_dir}/glove.6B.zip') as file:\n",
    "    file.extract('glove.6B.100d.txt')"
   ]
  },
  {
   "cell_type": "code",
   "execution_count": 24,
   "id": "3abdd73b",
   "metadata": {
    "execution": {
     "iopub.execute_input": "2024-11-04T23:01:30.172520Z",
     "iopub.status.busy": "2024-11-04T23:01:30.172034Z",
     "iopub.status.idle": "2024-11-04T23:01:36.800207Z",
     "shell.execute_reply": "2024-11-04T23:01:36.799127Z"
    },
    "id": "YyCKTTlk5m0p",
    "outputId": "ba2d6fdc-8ca9-4f91-8ae7-16b292652748",
    "papermill": {
     "duration": 6.76492,
     "end_time": "2024-11-04T23:01:36.802906",
     "exception": false,
     "start_time": "2024-11-04T23:01:30.037986",
     "status": "completed"
    },
    "tags": []
   },
   "outputs": [
    {
     "name": "stdout",
     "output_type": "stream",
     "text": [
      "Found 44266 words.\n",
      "Embedding matrix shape:  torch.Size([52463, 100])\n"
     ]
    }
   ],
   "source": [
    "# form an embedding matrix form glove pre-trained embedding weights for my vocab\n",
    "glove_embeddings_index = dict()\n",
    "embedding_matrix = torch.zeros((len(vocab), embd_features))\n",
    "vocab_dict = vocab.get_vocabulary()\n",
    "found = 0\n",
    "\n",
    "with open('glove.6B.100d.txt') as f:\n",
    "    for line in f:\n",
    "        values = line.split()\n",
    "        word = values[0]\n",
    "\n",
    "        # token = word_tokenizer.word_tokenizing(word, stemming=False)\n",
    "        token = word\n",
    "        if token:\n",
    "            # print(word)\n",
    "            idx = vocab_dict.get(token, 0)\n",
    "            if idx:\n",
    "                found += 1\n",
    "                coefs = torch.tensor([float(value) for value in values[1:]])\n",
    "                embedding_matrix[idx] = coefs\n",
    "                # glove_embeddings_index[word] = coefs\n",
    "\n",
    "print('Found %s words.' % found)\n",
    "print(\"Embedding matrix shape: \" ,embedding_matrix.shape)\n"
   ]
  },
  {
   "cell_type": "code",
   "execution_count": 25,
   "id": "76a512a0",
   "metadata": {
    "execution": {
     "iopub.execute_input": "2024-11-04T23:01:36.981883Z",
     "iopub.status.busy": "2024-11-04T23:01:36.980908Z",
     "iopub.status.idle": "2024-11-04T23:01:38.186690Z",
     "shell.execute_reply": "2024-11-04T23:01:38.185182Z"
    },
    "id": "YC7U89XCV_lw",
    "outputId": "0fac883d-96d0-41b6-bb63-4b8be6b48367",
    "papermill": {
     "duration": 1.29713,
     "end_time": "2024-11-04T23:01:38.189003",
     "exception": false,
     "start_time": "2024-11-04T23:01:36.891873",
     "status": "completed"
    },
    "tags": []
   },
   "outputs": [
    {
     "name": "stdout",
     "output_type": "stream",
     "text": [
      "Before Embedding layer\t\ttorch.Size([64, 100])\t\ttorch.Size([64])\n",
      "After Embedding layer\t\ttorch.Size([64, 100, 100])\ttorch.Size([64])\n"
     ]
    }
   ],
   "source": [
    "for x, y in test_loader:\n",
    "    print('Before Embedding layer', x.shape, y.shape, sep='\\t\\t')\n",
    "    emb = embedding_matrix[x]\n",
    "    print('After Embedding layer\\t', emb.shape, y.shape, sep='\\t')\n",
    "    break"
   ]
  },
  {
   "cell_type": "markdown",
   "id": "c4c43e09",
   "metadata": {
    "id": "wHu_5YJSXjvT",
    "papermill": {
     "duration": 0.085274,
     "end_time": "2024-11-04T23:01:38.361091",
     "exception": false,
     "start_time": "2024-11-04T23:01:38.275817",
     "status": "completed"
    },
    "tags": []
   },
   "source": [
    "## `STEP: MODELS TRAINING && Evaluation`"
   ]
  },
  {
   "cell_type": "markdown",
   "id": "fb02334f",
   "metadata": {
    "id": "uA29cBHzyd3V",
    "papermill": {
     "duration": 0.083058,
     "end_time": "2024-11-04T23:01:38.530808",
     "exception": false,
     "start_time": "2024-11-04T23:01:38.447750",
     "status": "completed"
    },
    "tags": []
   },
   "source": [
    "### Defining"
   ]
  },
  {
   "cell_type": "code",
   "execution_count": 26,
   "id": "94b59824",
   "metadata": {
    "execution": {
     "iopub.execute_input": "2024-11-04T23:01:38.704160Z",
     "iopub.status.busy": "2024-11-04T23:01:38.703231Z",
     "iopub.status.idle": "2024-11-04T23:01:38.714145Z",
     "shell.execute_reply": "2024-11-04T23:01:38.712921Z"
    },
    "id": "BvIaw4CvAP94",
    "papermill": {
     "duration": 0.102507,
     "end_time": "2024-11-04T23:01:38.716422",
     "exception": false,
     "start_time": "2024-11-04T23:01:38.613915",
     "status": "completed"
    },
    "tags": []
   },
   "outputs": [],
   "source": [
    "## Helper\n",
    "@torch.no_grad()\n",
    "def loss_acc_loader(model, data_loader, device):\n",
    "    model.eval()\n",
    "\n",
    "    total_predicts = []\n",
    "    total_targets = []\n",
    "    total_class_loss = 0\n",
    "\n",
    "    for data, labels in data_loader:\n",
    "        data = data.to(device)\n",
    "        labels = labels.view(-1,1).to(device)\n",
    "\n",
    "        class_logits = model(data, device)\n",
    "\n",
    "        total_class_loss += class_criterion(class_logits, labels).item()\n",
    "\n",
    "        total_predicts.append((class_logits>=0.5).float())\n",
    "        total_targets.append(labels)\n",
    "\n",
    "    total_predicts = torch.concat(total_predicts)\n",
    "    total_targets = torch.concat(total_targets)\n",
    "\n",
    "    avg_class_loss = total_class_loss / len(data_loader)\n",
    "    accuracy = (total_predicts == total_targets).float().mean().item()\n",
    "\n",
    "    return avg_class_loss, accuracy, total_predicts, total_targets\n",
    "\n",
    "\n",
    "def get_parameters_info(model):\n",
    "    trainable = sum(p.numel() for p in model.parameters() if p.requires_grad==True)\n",
    "    nontrainable = sum(p.numel() for p in model.parameters() if p.requires_grad==False)\n",
    "\n",
    "    return trainable, nontrainable"
   ]
  },
  {
   "cell_type": "code",
   "execution_count": 27,
   "id": "b265b896",
   "metadata": {
    "execution": {
     "iopub.execute_input": "2024-11-04T23:01:38.884422Z",
     "iopub.status.busy": "2024-11-04T23:01:38.883706Z",
     "iopub.status.idle": "2024-11-04T23:01:38.896457Z",
     "shell.execute_reply": "2024-11-04T23:01:38.895196Z"
    },
    "id": "OUHrGsg1TYGo",
    "papermill": {
     "duration": 0.099642,
     "end_time": "2024-11-04T23:01:38.898754",
     "exception": false,
     "start_time": "2024-11-04T23:01:38.799112",
     "status": "completed"
    },
    "tags": []
   },
   "outputs": [],
   "source": [
    "class Sentiment_LSTM(nn.Module):\n",
    "    def __init__(self, embedding_matrix:torch.Tensor, lstm_hidden_size, lstm_layers, linear_hidden_size):\n",
    "        super(Sentiment_LSTM, self).__init__()\n",
    "\n",
    "        self.input_size = embedding_matrix.size(-1)\n",
    "        self.lstm_hidden_size = lstm_hidden_size\n",
    "        self.lstm_layers = lstm_layers\n",
    "        self.linear_hidden_size = linear_hidden_size\n",
    "\n",
    "        self.embedding_matrix = nn.Embedding.from_pretrained(embedding_matrix, freeze=False)\n",
    "\n",
    "        self.lstm = nn.LSTM(input_size=self.input_size, hidden_size=self.lstm_hidden_size,\n",
    "                          num_layers=self.lstm_layers, batch_first=True)\n",
    "\n",
    "        # We will use only the last hidden state of the last layer for the prediction\n",
    "        self.fc = nn.Sequential(nn.Linear(self.lstm_hidden_size, self.linear_hidden_size),\n",
    "                                nn.BatchNorm1d(self.linear_hidden_size), nn.ReLU(), nn.Dropout(0.3))\n",
    "\n",
    "        self.classifier = nn.Linear(self.linear_hidden_size, 1)\n",
    "\n",
    "    def forward(self, x, device):\n",
    "        h_0 = torch.zeros((self.lstm_layers, x.size(0), self.lstm_hidden_size)).to(device)\n",
    "        c_0 = torch.zeros((self.lstm_layers, x.size(0), self.lstm_hidden_size)).to(device)\n",
    "\n",
    "        embds = self.embedding_matrix(x)\n",
    "        all_outputs, (h_final, c_final) = self.lstm(embds, (h_0, c_0))\n",
    "        h_final_final_layer = h_final[-1,:,:]\n",
    "\n",
    "        fc_out = self.fc(h_final_final_layer)\n",
    "\n",
    "        output = self.classifier(h_final_final_layer)\n",
    "        return nn.functional.sigmoid(output)"
   ]
  },
  {
   "cell_type": "code",
   "execution_count": 28,
   "id": "70a6cb10",
   "metadata": {
    "execution": {
     "iopub.execute_input": "2024-11-04T23:01:39.067391Z",
     "iopub.status.busy": "2024-11-04T23:01:39.066608Z",
     "iopub.status.idle": "2024-11-04T23:01:40.145365Z",
     "shell.execute_reply": "2024-11-04T23:01:40.144462Z"
    },
    "id": "wpVfjVOUBC5v",
    "outputId": "99180949-4619-432e-a013-8ede1b0a86de",
    "papermill": {
     "duration": 1.166309,
     "end_time": "2024-11-04T23:01:40.147887",
     "exception": false,
     "start_time": "2024-11-04T23:01:38.981578",
     "status": "completed"
    },
    "tags": []
   },
   "outputs": [
    {
     "name": "stdout",
     "output_type": "stream",
     "text": [
      "Total trainable parameters = 5645149\n",
      "Total non-trainable parameters = 0\n"
     ]
    }
   ],
   "source": [
    "lstm_model = Sentiment_LSTM(embedding_matrix, lstm_hidden_size, lstm_layers, linear_hidden_size).to(device)\n",
    "tr, nontr = get_parameters_info(lstm_model)\n",
    "print(f\"Total trainable parameters = {tr}\\nTotal non-trainable parameters = {nontr}\")\n",
    "\n",
    "# class_criterion = nn.CrossEntropyLoss()  # Classification loss\n",
    "class_criterion = nn.BCELoss()  # Classification loss\n",
    "\n",
    "optim = torch.optim.Adam(lstm_model.parameters(), lr)"
   ]
  },
  {
   "cell_type": "markdown",
   "id": "f4ac5c12",
   "metadata": {
    "id": "BWGlbEfIYSxO",
    "papermill": {
     "duration": 0.083212,
     "end_time": "2024-11-04T23:01:40.312243",
     "exception": false,
     "start_time": "2024-11-04T23:01:40.229031",
     "status": "completed"
    },
    "tags": []
   },
   "source": [
    "### Training Loop"
   ]
  },
  {
   "cell_type": "code",
   "execution_count": 29,
   "id": "c9300bd3",
   "metadata": {
    "execution": {
     "iopub.execute_input": "2024-11-04T23:01:40.488365Z",
     "iopub.status.busy": "2024-11-04T23:01:40.486979Z",
     "iopub.status.idle": "2024-11-04T23:01:40.493054Z",
     "shell.execute_reply": "2024-11-04T23:01:40.491953Z"
    },
    "papermill": {
     "duration": 0.097214,
     "end_time": "2024-11-04T23:01:40.495285",
     "exception": false,
     "start_time": "2024-11-04T23:01:40.398071",
     "status": "completed"
    },
    "tags": []
   },
   "outputs": [],
   "source": [
    "# ## overfit one-batch\n",
    "\n",
    "# x_batch, y_batch = next(iter(train_loader))\n",
    "# data = x_batch.to(device)\n",
    "# labels = y_batch.view(-1,1).to(device)\n",
    "# epochs = 300\n",
    "# for epoch in range(epochs):\n",
    "\n",
    "#     class_logits = lstm_model(data)\n",
    "\n",
    "#     loss = class_criterion(class_logits, labels)\n",
    "\n",
    "#     optim.zero_grad()\n",
    "#     loss.backward()\n",
    "#     optim.step()\n",
    "\n",
    "#     predictions = (class_logits>=0.5).float()\n",
    "#     if (epoch+1) % 100 == 0:\n",
    "#         print(f'Epoch {epoch+1}/{epochs}: ', end='\\t')\n",
    "#         print(f'Loss = {loss.item():.2f}', f'Accuracy = {(predictions==labels).sum()}')"
   ]
  },
  {
   "cell_type": "code",
   "execution_count": 30,
   "id": "e07ccb54",
   "metadata": {
    "execution": {
     "iopub.execute_input": "2024-11-04T23:01:40.665421Z",
     "iopub.status.busy": "2024-11-04T23:01:40.664645Z",
     "iopub.status.idle": "2024-11-04T23:11:34.351754Z",
     "shell.execute_reply": "2024-11-04T23:11:34.350316Z"
    },
    "id": "FzJPHk6ADGoK",
    "outputId": "0c7e165d-887a-4670-e390-c3ebd297f357",
    "papermill": {
     "duration": 593.774448,
     "end_time": "2024-11-04T23:11:34.354360",
     "exception": false,
     "start_time": "2024-11-04T23:01:40.579912",
     "status": "completed"
    },
    "tags": []
   },
   "outputs": [
    {
     "name": "stdout",
     "output_type": "stream",
     "text": [
      "Epoch 1/15: \n",
      " Train: Class Loss 0.5441, Accuracy 73.03%\n",
      "  Validation: Class Loss 0.5465, Accuracy 72.72%\n",
      "Epoch 2/15: \n",
      " Train: Class Loss 0.4693, Accuracy 78.01%\n",
      "  Validation: Class Loss 0.4839, Accuracy 76.48%\n",
      "Epoch 3/15: \n",
      " Train: Class Loss 0.4244, Accuracy 80.61%\n",
      "  Validation: Class Loss 0.4489, Accuracy 78.98%\n",
      "Epoch 4/15: \n",
      " Train: Class Loss 0.3815, Accuracy 83.01%\n",
      "  Validation: Class Loss 0.4098, Accuracy 81.00%\n",
      "Epoch 5/15: \n",
      " Train: Class Loss 0.3489, Accuracy 84.74%\n",
      "  Validation: Class Loss 0.3867, Accuracy 82.20%\n",
      "Epoch 6/15: \n",
      " Train: Class Loss 0.3250, Accuracy 85.99%\n",
      "  Validation: Class Loss 0.3727, Accuracy 82.84%\n",
      "Epoch 7/15: \n",
      " Train: Class Loss 0.3087, Accuracy 86.89%\n",
      "  Validation: Class Loss 0.3738, Accuracy 83.36%\n",
      "Epoch 8/15: \n",
      " Train: Class Loss 0.2825, Accuracy 88.44%\n",
      "  Validation: Class Loss 0.3696, Accuracy 83.54%\n",
      "Epoch 9/15: \n",
      " Train: Class Loss 0.2572, Accuracy 89.65%\n",
      "  Validation: Class Loss 0.3579, Accuracy 84.04%\n",
      "Epoch 10/15: \n",
      " Train: Class Loss 0.2466, Accuracy 90.39%\n",
      "  Validation: Class Loss 0.3541, Accuracy 83.72%\n",
      "Epoch 11/15: \n",
      " Train: Class Loss 0.2175, Accuracy 91.79%\n",
      "  Validation: Class Loss 0.3624, Accuracy 84.74%\n",
      "Epoch 12/15: \n",
      " Train: Class Loss 0.1977, Accuracy 92.77%\n",
      "  Validation: Class Loss 0.3699, Accuracy 84.92%\n",
      "Epoch 13/15: \n",
      " Train: Class Loss 0.1836, Accuracy 93.19%\n",
      "  Validation: Class Loss 0.3884, Accuracy 84.48%\n",
      "Epoch 14/15: \n",
      " Train: Class Loss 0.1781, Accuracy 93.29%\n",
      "  Validation: Class Loss 0.4179, Accuracy 83.74%\n",
      "Epoch 15/15: \n",
      " Train: Class Loss 0.1631, Accuracy 93.89%\n",
      "  Validation: Class Loss 0.4317, Accuracy 83.34%\n"
     ]
    }
   ],
   "source": [
    "total_batches = len(train_loader)\n",
    "train_class_losses = []\n",
    "val_class_losses = []\n",
    "\n",
    "for epoch in range(epochs):\n",
    "    lstm_model.train()  # Set the model to training mode\n",
    "\n",
    "    print(f'Epoch {epoch+1}/{epochs}: ', end='\\n')\n",
    "    for batch_idx, (data, labels) in enumerate(train_loader):\n",
    "\n",
    "        data = data.to(device)\n",
    "        labels = labels.view(-1,1).to(device)\n",
    "\n",
    "        class_logits = lstm_model(data, device)\n",
    "\n",
    "        loss = class_criterion(class_logits, labels)\n",
    "\n",
    "        optim.zero_grad()\n",
    "        loss.backward()\n",
    "        optim.step()\n",
    "\n",
    "    # Running model on the entire train and validation dataset after each epoch\n",
    "    train_class_loss, train_accuracy, _, _ = loss_acc_loader(lstm_model, train_loader, device)\n",
    "    train_class_losses.append(train_class_loss)\n",
    "    print(f' Train: Class Loss {train_class_loss:.4f}, Accuracy {train_accuracy*100:.2f}%')\n",
    "\n",
    "    val_class_loss, val_accuracy, _, _ = loss_acc_loader(lstm_model, valid_loader, device)\n",
    "    val_class_losses.append(val_class_loss)\n",
    "    print(f'  Validation: Class Loss {val_class_loss:.4f}, Accuracy {val_accuracy*100:.2f}%')"
   ]
  },
  {
   "cell_type": "code",
   "execution_count": 31,
   "id": "91ffb9ad",
   "metadata": {
    "execution": {
     "iopub.execute_input": "2024-11-04T23:11:34.521168Z",
     "iopub.status.busy": "2024-11-04T23:11:34.520194Z",
     "iopub.status.idle": "2024-11-04T23:11:34.773827Z",
     "shell.execute_reply": "2024-11-04T23:11:34.772728Z"
    },
    "id": "dJk5BrngX-sk",
    "papermill": {
     "duration": 0.339359,
     "end_time": "2024-11-04T23:11:34.776293",
     "exception": false,
     "start_time": "2024-11-04T23:11:34.436934",
     "status": "completed"
    },
    "tags": []
   },
   "outputs": [
    {
     "data": {
      "image/png": "[encoded data removed]",
      "text/plain": [
       "<Figure size 800x300 with 1 Axes>"
      ]
     },
     "metadata": {},
     "output_type": "display_data"
    }
   ],
   "source": [
    "plt.figure(figsize=(8, 3))\n",
    "plt.plot([ep+1 for ep in range(len(train_class_losses))], train_class_losses, val_class_losses)\n",
    "plt.xlabel('Epochs')\n",
    "plt.ylabel('Class Loss')\n",
    "plt.show()"
   ]
  },
  {
   "cell_type": "markdown",
   "id": "b67ff172",
   "metadata": {
    "id": "wfJjXkC0YNLh",
    "papermill": {
     "duration": 0.083693,
     "end_time": "2024-11-04T23:11:34.943401",
     "exception": false,
     "start_time": "2024-11-04T23:11:34.859708",
     "status": "completed"
    },
    "tags": []
   },
   "source": [
    "### Evaluation"
   ]
  },
  {
   "cell_type": "code",
   "execution_count": 32,
   "id": "365fee27",
   "metadata": {
    "execution": {
     "iopub.execute_input": "2024-11-04T23:11:35.116614Z",
     "iopub.status.busy": "2024-11-04T23:11:35.115762Z",
     "iopub.status.idle": "2024-11-04T23:11:37.897514Z",
     "shell.execute_reply": "2024-11-04T23:11:37.895958Z"
    },
    "id": "9-BfM1wb3J_U",
    "papermill": {
     "duration": 2.87131,
     "end_time": "2024-11-04T23:11:37.899841",
     "exception": false,
     "start_time": "2024-11-04T23:11:35.028531",
     "status": "completed"
    },
    "tags": []
   },
   "outputs": [
    {
     "name": "stdout",
     "output_type": "stream",
     "text": [
      "Test: Class Loss 0.4550, Accuracy 83.04%\n"
     ]
    }
   ],
   "source": [
    "test_class_loss, test_accuracy, _, _ = loss_acc_loader(lstm_model, test_loader, device)\n",
    "\n",
    "print(f'Test: Class Loss {test_class_loss:.4f}, Accuracy {test_accuracy*100:.2f}%')"
   ]
  },
  {
   "cell_type": "markdown",
   "id": "2c8c2614",
   "metadata": {
    "id": "M4xRtPCkYmDF",
    "papermill": {
     "duration": 0.084913,
     "end_time": "2024-11-04T23:11:38.068290",
     "exception": false,
     "start_time": "2024-11-04T23:11:37.983377",
     "status": "completed"
    },
    "tags": []
   },
   "source": [
    "### Saving"
   ]
  },
  {
   "cell_type": "code",
   "execution_count": 33,
   "id": "9a224fe3",
   "metadata": {
    "execution": {
     "iopub.execute_input": "2024-11-04T23:11:38.236351Z",
     "iopub.status.busy": "2024-11-04T23:11:38.235885Z",
     "iopub.status.idle": "2024-11-04T23:11:38.391459Z",
     "shell.execute_reply": "2024-11-04T23:11:38.390426Z"
    },
    "id": "0yEb_8Uc17dh",
    "papermill": {
     "duration": 0.241847,
     "end_time": "2024-11-04T23:11:38.393980",
     "exception": false,
     "start_time": "2024-11-04T23:11:38.152133",
     "status": "completed"
    },
    "tags": []
   },
   "outputs": [],
   "source": [
    "model_states = {'class_dict': classes_dict,\n",
    "                # 'Tokenizer': word_tokenizer,\n",
    "                'vocabulary': vocab.get_vocabulary()}\n",
    "\n",
    "torch.save(model_states, f'{base_dir}/lstm_model_states.pt')\n",
    "## Save Entire Model\n",
    "torch.save(lstm_model, f'{base_dir}/lstm_model.bin')"
   ]
  }
 ],
 "metadata": {
  "colab": {
   "collapsed_sections": [
    "TNCEA6TN6-9_",
    "bnba3eqCIwM5"
   ],
   "provenance": []
  },
  "kaggle": {
   "accelerator": "gpu",
   "dataSources": [],
   "dockerImageVersionId": 30787,
   "isGpuEnabled": true,
   "isInternetEnabled": true,
   "language": "python",
   "sourceType": "notebook"
  },
  "kernelspec": {
   "display_name": "Python 3",
   "language": "python",
   "name": "python3"
  },
  "language_info": {
   "codemirror_mode": {
    "name": "ipython",
    "version": 3
   },
   "file_extension": ".py",
   "mimetype": "text/x-python",
   "name": "python",
   "nbconvert_exporter": "python",
   "pygments_lexer": "ipython3",
   "version": "3.10.14"
  },
  "papermill": {
   "default_parameters": {},
   "duration": 884.226314,
   "end_time": "2024-11-04T23:11:41.105833",
   "environment_variables": {},
   "exception": null,
   "input_path": "__notebook__.ipynb",
   "output_path": "__notebook__.ipynb",
   "parameters": {},
   "start_time": "2024-11-04T22:56:56.879519",
   "version": "2.6.0"
  }
 },
 "nbformat": 4,
 "nbformat_minor": 5
}
